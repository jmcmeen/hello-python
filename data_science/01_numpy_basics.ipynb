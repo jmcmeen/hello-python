{
 "cells": [
  {
   "cell_type": "markdown",
   "metadata": {},
   "source": [
    "# NumPy #\n",
    "\n",
    "NumPy is a powerful library in Python for numerical computations. It stands for Numerical Python. NumPy adds support for large, multi-dimensional arrays and matrices, along with a large collection of high-level mathematical functions to operate on these arrays.\n",
    "\n",
    "Here are some key features and uses of NumPy:\n",
    "\n",
    "* **NumPy arrays**: NumPy introduces the powerful ndarray object, which is a multidimensional array similar to arrays in languages like C or Java. These arrays are more efficient and easier to use than built-in Python lists.\n",
    "* **Broadcasting**: NumPy supports broadcasting, which is a powerful mechanism that allows you to perform arithmetic operations between arrays of different shapes and sizes.\n",
    "* **Universal functions (ufuncs)**: NumPy provides a large collection of vectorized mathematical functions that operate element-wise on arrays, such as np.sin(), np.cos(), np.exp(), and many more.\n",
    "* **Linear algebra**: NumPy includes functions for solving linear algebraic equations, computing eigenvalues and eigenvectors, and performing other linear algebra operations.\n",
    "* **Random number generation**: NumPy provides functions for generating random numbers from various probability distributions.\n",
    "Integration with other libraries: NumPy is the foundation for many other libraries in the Python data science stack, such as SciPy, pandas, and scikit-learn.\n",
    "\n",
    "\n",
    "To use NumPy, you need to install and import it first (install script in [Data Science Introduction](./00_introduction.ipynb). ):"
   ]
  },
  {
   "cell_type": "code",
   "execution_count": null,
   "metadata": {},
   "outputs": [],
   "source": [
    "import numpy as np"
   ]
  },
  {
   "cell_type": "markdown",
   "metadata": {},
   "source": [
    "# Creating ndarrays # \n",
    "To create an ndarray, we can pass a list, tuple or any array-like object into the array() method, and it will be converted into an ndarray:"
   ]
  },
  {
   "cell_type": "code",
   "execution_count": null,
   "metadata": {},
   "outputs": [],
   "source": [
    "import numpy as np\n",
    "mylist = [10,20,30,40,50]\n",
    "\n",
    "arr = np.array(mylist)\n",
    "\n",
    "print(arr)\n",
    "\n",
    "print(type(arr))\n"
   ]
  },
  {
   "cell_type": "markdown",
   "metadata": {},
   "source": [
    "# Basics #\n",
    "Here's an example of creating a NumPy array and performing some basic operations:"
   ]
  },
  {
   "cell_type": "code",
   "execution_count": null,
   "metadata": {},
   "outputs": [],
   "source": [
    "import numpy as np\n",
    "\n",
    "# Create a 1D NumPy array\n",
    "arr = np.array([10, 20, 30, 40, 50])\n",
    "print(\"Array:\", arr)\n",
    "\n",
    "# Access array elements\n",
    "print(\"Length of array:\", len(arr))\n",
    "print(\"First element:\", arr[0])\n",
    "print(\"Last element:\", arr[-1]) # negative indexing\n",
    "print(\"Second last element:\", arr[-2])\n",
    "\n",
    "# Slice the array\n",
    "print(\"Elements at index 1 to 4 (exclusive):\", arr[1:4])\n",
    "\n",
    "# Compute various array statistics\n",
    "print(\"Mean:\", np.mean(arr))\n",
    "print(\"Median:\", np.median(arr))\n",
    "print(\"Sum:\", np.sum(arr))\n",
    "print(\"Standard deviation:\", np.std(arr))\n",
    "\n",
    "# Perform element-wise operations with a scalar\n",
    "print(\"Add 2:\", arr + 2)\n",
    "print(\"Subtract 2:\", arr - 2)\n",
    "print(\"Multiply by 2:\", arr * 2)\n",
    "print(\"Divide by 2:\", arr / 2)\n",
    "\n",
    "# Perform element-wise multiplication between arrays\n",
    "arr2 = np.array([10, 20, 30, 40, 50])\n",
    "print(\"Multiply by arr2:\", arr * arr2)"
   ]
  },
  {
   "cell_type": "markdown",
   "metadata": {},
   "source": [
    "# Indexing # \n",
    "Here are some examples of indexing in ndarrays. ndarrays indexs start at 0, like most languages. The first element is at index 0, the second at index 1, and so on."
   ]
  },
  {
   "cell_type": "code",
   "execution_count": null,
   "metadata": {},
   "outputs": [],
   "source": [
    "import numpy as np\n",
    "\n",
    "# Create a 1D NumPy array\n",
    "arr = np.array([918,56,45,76,23857,457,245,428])\n",
    "\n",
    "#basic access 1-D array\n",
    "print(\"First element: \",arr[0])\n",
    "print(\"Second element: \",arr[1])\n",
    "print(\"Sum of first two elements: \",arr[0] + arr[1])\n",
    "\n",
    "#using negative indexing\n",
    "print(\"Last element: \",arr[-1])\n",
    "print(\"Second last element: \",arr[-2])\n",
    "print(\"Sum of last two elements: \",arr[-1] + arr[-2])\n",
    "\n",
    "# Create a 2D NumPy array\n",
    "arr = np.array([[3415,4267,786,23,234,23], [657,123,578,54,234,12]])\n",
    "\n",
    "#basic access 2-D array\n",
    "print(\"1st element on 1st row: \",arr[0,0])\n",
    "print('5th element on 2nd row: ', arr[1, 4])\n",
    "print('2nd element on 2nd row: ', arr[1, 1])\n",
    "\n",
    "# Create a 3D NumPy array\n",
    "arr = np.array([[[1, 2, 3], [4, 5, 6]], [[7, 8, 9], [10, 11, 12]]])\n",
    "\n",
    "#basic access 3-D array\n",
    "print(\"1st element on 1st row, 1st column: \", arr[0, 0, 0])\n",
    "print(\"2nd element on 2nd row, 3rd column: \", arr[1, 1, 2])"
   ]
  },
  {
   "cell_type": "markdown",
   "metadata": {},
   "source": [
    "# Slicing #\n",
    "Array slicing, similar to substrings in strings, allows you to grab ranges of values."
   ]
  },
  {
   "cell_type": "code",
   "execution_count": null,
   "metadata": {},
   "outputs": [],
   "source": [
    "import numpy as np\n",
    "\n",
    "# Create a 1D NumPy array\n",
    "arr = np.array([0, 1, 2, 3, 4, 5, 6, 7, 8, 9])\n",
    "\n",
    "# Slice from index 2 to 5 (exclusive)\n",
    "print(\"Slice from index 2 to 5:\", arr[2:5])\n",
    "\n",
    "# Slice from the beginning to index 4 (exclusive)\n",
    "print(\"Slice from the beginning to index 4:\", arr[:4])\n",
    "\n",
    "# Slice from index 6 to the end\n",
    "print(\"Slice from index 6 to the end:\", arr[6:])"
   ]
  },
  {
   "cell_type": "markdown",
   "metadata": {},
   "source": [
    "# Slicing with a Step #\n",
    "Slicing can be achieved from different intervals and directions."
   ]
  },
  {
   "cell_type": "code",
   "execution_count": null,
   "metadata": {},
   "outputs": [],
   "source": [
    "import numpy as np\n",
    "\n",
    "# Create a 1D NumPy array\n",
    "arr = np.array([0, 1, 2, 3, 4, 5, 6, 7, 8, 9])\n",
    "\n",
    "# Every second element starting from index 1\n",
    "print(\"Every second element starting from index 1:\", arr[1::2])\n",
    "\n",
    "# Every third element starting from the beginning\n",
    "print(\"Every third element starting from the beginning:\", arr[::3])\n",
    "\n",
    "# Reverse the array\n",
    "print(\"Reverse the array:\", arr[::-1])"
   ]
  },
  {
   "cell_type": "markdown",
   "metadata": {},
   "source": [
    "# Copies and Views #\n",
    "In NumPy, a copy is a new array object that contains a copy of the data from another array. When you create a copy of an array, any modifications made to the copy do not affect the original array, and vice versa.\n",
    "\n",
    "On the other hand, a view is a new array object that references the same memory as the original array. When you create a view of an array, any modifications made to the view will also affect the original array, and vice versa."
   ]
  },
  {
   "cell_type": "code",
   "execution_count": null,
   "metadata": {},
   "outputs": [],
   "source": [
    "import numpy as np\n",
    "\n",
    "# Copies are deep copies of the original array and changes to them will not change the original array.\n",
    "arr = np.array([1, 2, 3, 4, 5])\n",
    "x = arr.copy()\n",
    "x[0] = 42\n",
    "arr[-1] = 42\n",
    "\n",
    "print(\"Original array:\",arr)\n",
    "print(\"Copied array:\",x)\n",
    "\n",
    "# Views are references to the original array and changes to them will change the original array.\n",
    "\n",
    "arr = np.array([1, 2, 3, 4, 5])\n",
    "x = arr.view()\n",
    "arr[0] = 42\n",
    "x[-1] = 42\n",
    "\n",
    "print(\"Original array:\", arr)\n",
    "print(\"Viewed array:\", x)"
   ]
  },
  {
   "cell_type": "markdown",
   "metadata": {},
   "source": [
    "# Shape # \n",
    "\n",
    "In this example, the array arr has 3 rows and 2 columns, so its shape is (3, 2). The first element of the shape tuple, 3, represents the number of rows, and the second element, 2, represents the number of columns.\n",
    "\n",
    "You can use the shape attribute of a NumPy array to get its shape as a tuple. The shape tuple can be used to reshape, slice, and manipulate the array in various ways."
   ]
  },
  {
   "cell_type": "code",
   "execution_count": null,
   "metadata": {},
   "outputs": [],
   "source": [
    "import numpy as np\n",
    "\n",
    "# Create a 2-dimensional NumPy array with shape (3, 2)\n",
    "arr = np.array([[1, 2], [3, 4], [5, 6]])\n",
    "\n",
    "# Print the shape of the array\n",
    "print(arr.shape)"
   ]
  },
  {
   "cell_type": "markdown",
   "metadata": {},
   "source": [
    "# Reshape #\n",
    "In this example, we first create a 1D numpy array arr_1d with 12 elements. Then, we use numpy.reshape to reshape arr_1d to a 3x4 2D array arr_2d. The reshape function takes in one argument, which is the new shape of the array. In this case, we pass in (3, 4) to reshape arr_1d to a 3x4 2D array.\n",
    "\n",
    "Note that reshaping an array does not change the total number of elements in the array. In this example, arr_1d has 12 elements, and so does arr_2d. We are simply rearranging the elements of arr_1d to form a 2D array."
   ]
  },
  {
   "cell_type": "code",
   "execution_count": null,
   "metadata": {},
   "outputs": [],
   "source": [
    "import numpy as np\n",
    "\n",
    "# create a 1D numpy array with 12 elements\n",
    "arr_1d = np.array([1, 2, 3, 4, 5, 6, 7, 8, 9, 10, 11, 12])\n",
    "\n",
    "# reshape the 1D array to a 3x4 2D array\n",
    "arr_2d = arr_1d.reshape(3, 4)\n",
    "\n",
    "print(\"Original 1D array:\")\n",
    "print(arr_1d)\n",
    "print(\"Shape of the 1D array:\", arr_1d.shape)\n",
    "\n",
    "print(\"Reshaped 2D array:\")\n",
    "print(arr_2d)\n",
    "print(\"Shape of the 2D array:\", arr_2d.shape)\n"
   ]
  },
  {
   "cell_type": "markdown",
   "metadata": {},
   "source": [
    "# Iterating #\n",
    "This example shows iterating over 1d, 2d, and 3d ndarrays."
   ]
  },
  {
   "cell_type": "code",
   "execution_count": null,
   "metadata": {},
   "outputs": [],
   "source": [
    "import numpy as np\n",
    "\n",
    "# create a 1D numpy array with 5 elements\n",
    "arr_1d = np.array([1, 2, 3, 4, 5])\n",
    "\n",
    "# iterate over the 1D array using a for loop\n",
    "for element in arr_1d:\n",
    "    print(element)\n",
    "\n",
    "print()\n",
    "\n",
    "# create a 2D numpy array with 6 elements\n",
    "arr_2d = np.array([[1, 2, 3], [4, 5, 6]])\n",
    "\n",
    "# iterate over the 2D array using nested for loops\n",
    "for row in arr_2d:\n",
    "    for element in row:\n",
    "        print(element, end=\" \")\n",
    "    print()\n",
    "\n",
    "print()\n",
    "\n",
    "# create a 3D numpy array with 24 elements\n",
    "arr_3d = np.array([[[1, 2, 3], [4, 5, 6]], [[7, 8, 9], [10, 11, 12]]])\n",
    "\n",
    "# iterate over the 3D array using nested for loops\n",
    "for plane in arr_3d:\n",
    "    for row in plane:\n",
    "        for element in row:\n",
    "            print(element, end=\" \")\n",
    "        print()\n",
    "    print()"
   ]
  },
  {
   "cell_type": "markdown",
   "metadata": {},
   "source": [
    "# Joining #\n",
    "In this example, we first create two 1D numpy arrays arr_1 and arr_2 with 3 elements each. Then, we use the numpy.concatenate function to join the two arrays along the vertical axis (axis=0) to create a new 1D array arr_joined.\n",
    "\n",
    "Note that we use the np.concatenate function instead of the + operator to join the arrays because the + operator can only concatenate arrays along the last axis (axis=-1) by default. To concatenate arrays along a different axis, we need to use the numpy.concatenate function."
   ]
  },
  {
   "cell_type": "code",
   "execution_count": null,
   "metadata": {},
   "outputs": [],
   "source": [
    "import numpy as np\n",
    "\n",
    "# create two 1D numpy arrays with 3 elements each\n",
    "arr_1 = np.array([1, 2, 3])\n",
    "arr_2 = np.array([4, 5, 6])\n",
    "\n",
    "# join the two arrays along a specified axis using concatenate\n",
    "arr_joined = np.concatenate((arr_1, arr_2), axis=0)\n",
    "\n",
    "# print the joined array\n",
    "print(arr_joined)"
   ]
  },
  {
   "cell_type": "markdown",
   "metadata": {},
   "source": [
    "# Joining by Axis #\n",
    "We can also join arrays along the horizontal axis (axis=1) by specifying axis=1 in the numpy.concatenate function. For example, if we have two 2D arrays arr_1 and arr_2 with the same shape, we can join them horizontally as follows:"
   ]
  },
  {
   "cell_type": "code",
   "execution_count": null,
   "metadata": {},
   "outputs": [],
   "source": [
    "import numpy as np\n",
    "\n",
    "# create two 2D numpy arrays with 3x2 elements each\n",
    "arr_1 = np.array([[1, 2], [3, 4], [5, 6]])\n",
    "arr_2 = np.array([[7, 8], [9, 10], [11, 12]])\n",
    "\n",
    "# join the two arrays horizontally using concatenate\n",
    "arr_joined = np.concatenate((arr_1, arr_2), axis=1)\n",
    "\n",
    "# print the joined array\n",
    "print(arr_joined)"
   ]
  },
  {
   "cell_type": "markdown",
   "metadata": {},
   "source": [
    "# Splitting 1d # \n",
    "In this example, we first create a 1D numpy array arr_1d with 6 elements. Then, we use the numpy.split function to split the array into two subarrays along the index split_index=3. The numpy.split function takes in two arguments: the array to split and a list of split indices. In this case, we pass in [split_index] to split the array into two subarrays at the index split_index.\n",
    "\n",
    "The numpy.split function returns a list of subarrays. We can access each subarray using the list index. In this example, we print the two subarrays using arr_split[0] and arr_split[1].\n",
    "\n",
    "Note that we can also split a 2D or higher-dimensional array along a specified axis. For example, if we have a 2D array arr_2d with 6 rows and 2 columns, we can split it into two subarrays along the horizontal axis (axis=1) as follows:"
   ]
  },
  {
   "cell_type": "code",
   "execution_count": null,
   "metadata": {},
   "outputs": [],
   "source": [
    "import numpy as np\n",
    "\n",
    "# create a 1D numpy array with 6 elements\n",
    "arr_1d = np.array([1, 2, 3, 4, 5, 6])\n",
    "\n",
    "# split the array into two subarrays along a specified split index\n",
    "split_index = 3\n",
    "arr_split = np.split(arr_1d, [split_index])\n",
    "\n",
    "# print the subarrays\n",
    "print(\"Subarray 1:\", arr_split[0])\n",
    "print(\"Subarray 2:\", arr_split[1])"
   ]
  },
  {
   "cell_type": "markdown",
   "metadata": {},
   "source": [
    "# Splitting 2d #\n",
    "In this example, we create a 2D numpy array arr_2d with 6 rows and 2 columns. Then, we use the numpy.split function to split the array into two subarrays along the horizontal axis (axis=1) at the index 2. The numpy.split function takes in three arguments: the array to split, the number of subarrays to split into, and the axis along which to split. In this case, we pass in 2 to split the array into two subarrays along the horizontal axis (axis=1).\n",
    "\n",
    "The numpy.split function returns a list of subarrays. We can access each subarray using the list index. In this example, we print the two subarrays using arr_split[0] and arr_split[1]."
   ]
  },
  {
   "cell_type": "code",
   "execution_count": null,
   "metadata": {},
   "outputs": [],
   "source": [
    "import numpy as np\n",
    "\n",
    "# create a 2D numpy array with 6 rows and 2 columns\n",
    "arr_2d = np.array([[1, 2], [3, 4], [5, 6], [7, 8], [9, 10], [11, 12]])\n",
    "\n",
    "# split the array into two subarrays along the horizontal axis\n",
    "arr_split = np.split(arr_2d, 2, axis=1)\n",
    "\n",
    "# print the subarrays\n",
    "print(\"Subarray 1:\", arr_split[0])\n",
    "print(\"Subarray 2:\", arr_split[1])"
   ]
  },
  {
   "cell_type": "markdown",
   "metadata": {},
   "source": [
    "# Searching #\n",
    "Here are some examples of searching using the ndarray where method. In this example, where() returns an array of indices and the data type of the matches."
   ]
  },
  {
   "cell_type": "code",
   "execution_count": null,
   "metadata": {},
   "outputs": [],
   "source": [
    "import numpy as np\n",
    "\n",
    "# create a 1D numpy array with 6 elements\n",
    "arr_1d = np.array([1, 2, 3, 4, 5, 6])\n",
    "\n",
    "#find indices of elements in the array that are equal to 4\n",
    "indices = np.where(arr_1d == 4)\n",
    "\n",
    "# print the indices\n",
    "print(\"Indices:\", indices)\n",
    "\n",
    "# print the elements at the indices\n",
    "print(\"Elements:\", arr_1d[indices])\n",
    "\n",
    "# find the indices of elements in the array that are greater than 3\n",
    "indices = np.where(arr_1d > 3)\n",
    "print(\"Indices:\", indices)\n",
    "print(\"Elements:\", arr_1d[indices])\n",
    "\n",
    "# find the indices of elements in the array that are even\n",
    "indices = np.where(arr_1d%2 == 0)\n",
    "print(\"Indices:\", indices)\n",
    "print(\"Elements:\", arr_1d[indices])\n",
    "\n",
    "# find the indices of elements in the array that are odd\n",
    "indices = np.where(arr_1d%2 == 1)\n",
    "print(\"Indices:\", indices)\n",
    "print(\"Elements:\", arr_1d[indices])"
   ]
  },
  {
   "cell_type": "markdown",
   "metadata": {},
   "source": [
    "# Sorting 1d #\n",
    "In this example, we first create a 1D numpy array arr_1d with 6 elements. Then, we use the numpy.sort function to sort the array in ascending order. The numpy.sort function sorts the array in-place, meaning that it sorts the original array and does not return a new sorted array. "
   ]
  },
  {
   "cell_type": "code",
   "execution_count": null,
   "metadata": {},
   "outputs": [],
   "source": [
    "import numpy as np\n",
    "\n",
    "# create a 1D numpy array with 6 elements\n",
    "arr_1d = np.array([5, 3, 8, 1, 6, 4])\n",
    "\n",
    "# sort the array in ascending order\n",
    "np.sort(arr_1d)\n",
    "\n",
    "# print the sorted array\n",
    "print(arr_1d)"
   ]
  },
  {
   "cell_type": "markdown",
   "metadata": {},
   "source": [
    "# Sorting 2d #\n",
    "In this example, we create a 2D numpy array arr_2d with 6 rows and 2 columns. Then, we use the numpy.sort function to sort the array along the horizontal axis (axis=1) in ascending order. The numpy.sort function takes in an optional axis argument to specify the axis along which to sort the array. In this case, we pass in axis=1 to sort the array along the horizontal axis.\n",
    "\n",
    "Note that the numpy.sort function sorts the array in-place, meaning that it sorts the original array and does not return a new sorted array. If we want to keep the original array unchanged, we can use the numpy.argsort function to get the indices of the sorted elements and use those indices to rearrange the original array. For example, to sort the arr_2d array in ascending order along the horizontal axis and keep the original array unchanged, we can do:"
   ]
  },
  {
   "cell_type": "code",
   "execution_count": null,
   "metadata": {},
   "outputs": [],
   "source": [
    "import numpy as np\n",
    "\n",
    "# create a 2D numpy array with 6 rows and 2 columns\n",
    "arr_2d = np.array([[5, 1, 8], [9, 3, 4], [0, 8, 2], [1, 6, 2], [6, 3, 8], [1, 4, 5]])\n",
    "\n",
    "# get the indices of the sorted elements along the horizontal axis\n",
    "indices = np.argsort(arr_2d, axis=1)\n",
    "\n",
    "# rearrange the original array using the indices\n",
    "arr_2d_sorted = arr_2d[np.arange(arr_2d.shape[0])[:, None], indices]\n",
    "\n",
    "# print the sorted array\n",
    "print(arr_2d_sorted)"
   ]
  }
 ],
 "metadata": {
  "kernelspec": {
   "display_name": "Python 3",
   "language": "python",
   "name": "python3"
  },
  "language_info": {
   "codemirror_mode": {
    "name": "ipython",
    "version": 3
   },
   "file_extension": ".py",
   "mimetype": "text/x-python",
   "name": "python",
   "nbconvert_exporter": "python",
   "pygments_lexer": "ipython3",
   "version": "3.11.7"
  }
 },
 "nbformat": 4,
 "nbformat_minor": 2
}

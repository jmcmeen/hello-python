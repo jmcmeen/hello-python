{
 "cells": [
  {
   "cell_type": "markdown",
   "metadata": {},
   "source": [
    "# Pandas #\n",
    "Pandas is a library in Python that provides data structures and functions for efficient data manipulation and analysis. It is widely used in data science and scientific computing for handling and processing large datasets.\n",
    "\n",
    "The main data structure in pandas is the DataFrame, which is a two-dimensional table of data with rows and columns, similar to an Excel spreadsheet. DataFrames can be created from various sources, such as CSV files, SQL databases, and Python dictionaries.\n",
    "\n",
    "Pandas provides a wide range of functions and methods for data manipulation, including:\n",
    "\n",
    "* **Cleaning and preprocessing:** Pandas provides functions for handling missing data, handling duplicates, data normalization, and data transformation.\n",
    "* **Aggregation:** Pandas includes functions for aggregating data, such as grouping data by one or more columns and performing aggregation operations like sum, mean, and count.\n",
    "* **Merging:** Pandas provides functions for merging DataFrames based on common columns or indexes.\n",
    "* **Reshaping:** Pandas includes functions for reshaping DataFrames, such as pivot tables and data meltings.\n",
    "* **Filtering:** Pandas provides functions for filtering DataFrames based on various conditions.\n",
    "* **Visualization:** Pandas integrates well with other Python visualization libraries, such as Matplotlib and Seaborn, for creating various types of plots and charts.\n",
    "* **Exporting:** Pandas provides functions for exporting DataFrames to various formats, such as CSV, Excel, and JSON.\n",
    "\n",
    "Pandas is an essential tool for data analysis in Python and is widely used in industry, academia, and government for data-intensive applications. It is often used in conjunction with other Python libraries, such as NumPy, Scipy, and Matplotlib, to perform scientific computing tasks."
   ]
  },
  {
   "cell_type": "markdown",
   "metadata": {},
   "source": [
    "# Series"
   ]
  },
  {
   "cell_type": "code",
   "execution_count": null,
   "metadata": {},
   "outputs": [],
   "source": [
    "import pandas as pd\n",
    "\n",
    "a = [1, 7, 2]\n",
    "\n",
    "df = pd.Series(a)\n",
    "\n",
    "print(df)"
   ]
  },
  {
   "cell_type": "markdown",
   "metadata": {},
   "source": [
    "# DataFrame"
   ]
  },
  {
   "cell_type": "code",
   "execution_count": null,
   "metadata": {},
   "outputs": [],
   "source": [
    "import pandas\n",
    "\n",
    "mydataset = {\n",
    "  'frogs': [\"american toad\", \"spring peeper\", \"upland chrous frog\"],\n",
    "  'observations': [3, 7, 2]\n",
    "}\n",
    "\n",
    "df = pandas.DataFrame(mydataset)\n",
    "\n",
    "print(df)"
   ]
  },
  {
   "cell_type": "markdown",
   "metadata": {},
   "source": [
    "# Read CSV Files"
   ]
  },
  {
   "cell_type": "code",
   "execution_count": null,
   "metadata": {},
   "outputs": [],
   "source": [
    "import pandas as pd\n",
    "\n",
    "df = pd.read_csv('data/frogs.csv')\n",
    "\n",
    "print(df) "
   ]
  },
  {
   "cell_type": "markdown",
   "metadata": {},
   "source": [
    "# Read JSON Files"
   ]
  },
  {
   "cell_type": "code",
   "execution_count": null,
   "metadata": {},
   "outputs": [],
   "source": [
    "import pandas as pd\n",
    "\n",
    "df = pd.read_json('data/frogs.json')\n",
    "\n",
    "print(df) "
   ]
  },
  {
   "cell_type": "markdown",
   "metadata": {},
   "source": [
    "# DataFrame Info"
   ]
  },
  {
   "cell_type": "code",
   "execution_count": null,
   "metadata": {},
   "outputs": [],
   "source": [
    "import pandas as pd\n",
    "\n",
    "df = pd.read_csv('data/frogs.csv')\n",
    "\n",
    "print(df.info())"
   ]
  },
  {
   "cell_type": "markdown",
   "metadata": {},
   "source": [
    "# Head"
   ]
  },
  {
   "cell_type": "code",
   "execution_count": null,
   "metadata": {},
   "outputs": [],
   "source": [
    "import pandas as pd\n",
    "\n",
    "df = pd.read_csv('data/vgsales.csv')\n",
    "\n",
    "# returns top 5 rows by default\n",
    "print(df.head())"
   ]
  },
  {
   "cell_type": "markdown",
   "metadata": {},
   "source": [
    "# Tail"
   ]
  },
  {
   "cell_type": "code",
   "execution_count": null,
   "metadata": {},
   "outputs": [],
   "source": [
    "import pandas as pd\n",
    "\n",
    "df = pd.read_csv('data/vgsales.csv')\n",
    "\n",
    "# head and tail row count can be specified\n",
    "# get last 6 records\n",
    "print(df.tail(6))"
   ]
  },
  {
   "cell_type": "markdown",
   "metadata": {},
   "source": [
    "# Cleaning Data"
   ]
  },
  {
   "cell_type": "code",
   "execution_count": null,
   "metadata": {},
   "outputs": [],
   "source": [
    "import pandas as pd\n",
    "\n",
    "# this dataset has missing values, duplicates, data with incorrect format, and invalid data\n",
    "df = pd.read_csv('data/frogs_bad_data.csv')\n",
    "\n",
    "print(df)\n",
    "\n",
    "# can fix by using pandas\n",
    "# clean up empty cells, you can drop or fill in data\n",
    "df = df.dropna()\n",
    "\n",
    "# fill in empty cells\n",
    "# df = df.fillna(0)\n",
    "\n",
    "# fix invalid data\n",
    "df.loc[9, 'observations'] = 18\n",
    "\n",
    "# drop duplicates\n",
    "df = df.drop_duplicates()   \n",
    "\n",
    "# convert data to correct format\n",
    "df['date'] = pd.to_datetime(df['date'], yearfirst=True)\n",
    "\n",
    "# print fixed dataset\n",
    "print(df)\n",
    "\n",
    "df.to_csv('data/frogs_fixed.csv')"
   ]
  },
  {
   "cell_type": "markdown",
   "metadata": {},
   "source": [
    "# Correlations"
   ]
  },
  {
   "cell_type": "code",
   "execution_count": null,
   "metadata": {},
   "outputs": [],
   "source": [
    "import pandas as pd\n",
    "\n",
    "data = {\n",
    "  \"calories\": [420, 380, 390],\n",
    "  \"duration\": [50, 40, 45]\n",
    "}\n",
    "\n",
    "#load data into a DataFrame object:\n",
    "df = pd.DataFrame(data)\n",
    "\n",
    "print(df.corr()) "
   ]
  },
  {
   "cell_type": "markdown",
   "metadata": {},
   "source": [
    "# Plotting"
   ]
  },
  {
   "cell_type": "code",
   "execution_count": null,
   "metadata": {},
   "outputs": [],
   "source": [
    "import pandas as pd\n",
    "import matplotlib.pyplot as plt\n",
    "\n",
    "df = pd.read_csv('data/frogs.csv')\n",
    "\n",
    "df.plot(kind='bar', x='frogs', y='observations', color='black')\n",
    "\n",
    "plt.show()"
   ]
  }
 ],
 "metadata": {
  "kernelspec": {
   "display_name": "Python 3",
   "language": "python",
   "name": "python3"
  },
  "language_info": {
   "codemirror_mode": {
    "name": "ipython",
    "version": 3
   },
   "file_extension": ".py",
   "mimetype": "text/x-python",
   "name": "python",
   "nbconvert_exporter": "python",
   "pygments_lexer": "ipython3",
   "version": "3.11.7"
  }
 },
 "nbformat": 4,
 "nbformat_minor": 2
}

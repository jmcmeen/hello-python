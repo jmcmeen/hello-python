{
 "cells": [
  {
   "cell_type": "markdown",
   "metadata": {},
   "source": [
    "**Data science** involves extracting insights and knowledge from structured and unstructured data. Python is a popular programming language for data science due to its simplicity, versatility, and powerful libraries for data manipulation, analysis, and visualization. Here are some examples of data sience applications and tool in Python.\n",
    "\n",
    "* **Data Collection:** Data can be collected from various sources, such as databases, APIs, web scraping, or CSV/Excel files. Python provides several libraries for data collection, such as requests, BeautifulSoup, and pandas.\n",
    "* **Data Cleaning and Preprocessing:** Data cleaning and preprocessing involve cleaning and transforming the raw data into a usable format. Python provides several libraries for data cleaning and preprocessing, such as pandas, NumPy, and scikit-learn.\n",
    "* **Data Analysis:** Data analysis involves exploring and analyzing the data to extract insights and patterns. Python provides several libraries for data analysis, such as pandas, NumPy, and SciPy.\n",
    "* **Data Visualization:** Data visualization involves creating visualizations to communicate the insights and patterns found in the data. Python provides several libraries for data visualization, such as Matplotlib, Seaborn, and Plotly.\n",
    "* **Machine Learning:** Machine learning involves building predictive models from the data. Python provides several libraries for machine learning, such as scikit-learn, TensorFlow, and PyTorch.\n",
    "\n",
    "Python's powerful libraries and tools make it an ideal choice for data science tasks. With its simplicity and versatility, Python enables data scientists to focus on the data and insights rather than the programming details.\n",
    "\n",
    "In this section, we will cover\n",
    "1. [NumPy Basics](01_numpy_basics.ipynb), [NumPy Random](02_numpy_random.ipynb), [NumPy Universal Functions](03_numpy_ufunc.ipynb)\n",
    "2. [matplotlib](04_matplotlib.ipynb)\n",
    "3. [Pandas](05_pandas.ipynb)\n",
    "4. [SciPy](06_scipy.ipynb)\n",
    "\n",
    " This section was tested with Python 3.11.7."
   ]
  },
  {
   "cell_type": "code",
   "execution_count": null,
   "metadata": {},
   "outputs": [],
   "source": [
    "%pip install numpy\n",
    "%pip install matplotlib\n",
    "%pip install pandas\n",
    "%pip install scipy"
   ]
  }
 ],
 "metadata": {
  "kernelspec": {
   "display_name": "Python 3",
   "language": "python",
   "name": "python3"
  },
  "language_info": {
   "codemirror_mode": {
    "name": "ipython",
    "version": 3
   },
   "file_extension": ".py",
   "mimetype": "text/x-python",
   "name": "python",
   "nbconvert_exporter": "python",
   "pygments_lexer": "ipython3",
   "version": "3.11.7"
  }
 },
 "nbformat": 4,
 "nbformat_minor": 2
}

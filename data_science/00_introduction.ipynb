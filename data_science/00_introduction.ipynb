{
 "cells": [
  {
   "cell_type": "markdown",
   "metadata": {},
   "source": [
    "**Data science** involves extracting insights and knowledge from structured and unstructured data. Python is a popular programming language for data science due to its simplicity, versatility, and powerful libraries for data manipulation, analysis, and visualization. Here are some examples of data sience applications and tool in Python.\n",
    "\n",
    "* **Data Collection:** Data can be collected from various sources, such as databases, APIs, web scraping, or CSV/Excel files. Python provides several libraries for data collection, such as requests, BeautifulSoup, and pandas.\n",
    "* **Data Cleaning and Preprocessing:** Data cleaning and preprocessing involve cleaning and transforming the raw data into a usable format. Python provides several libraries for data cleaning and preprocessing, such as pandas, NumPy, and scikit-learn.\n",
    "* **Data Analysis:** Data analysis involves exploring and analyzing the data to extract insights and patterns. Python provides several libraries for data analysis, such as pandas, NumPy, and SciPy.\n",
    "* **Data Visualization:** Data visualization involves creating visualizations to communicate the insights and patterns found in the data. Python provides several libraries for data visualization, such as Matplotlib, Seaborn, and Plotly.\n",
    "* **Machine Learning:** Machine learning involves building predictive models from the data. Python provides several libraries for machine learning, such as scikit-learn, TensorFlow, and PyTorch.\n",
    "\n",
    "Python's powerful libraries and tools make it an ideal choice for data science tasks. With its simplicity and versatility, Python enables data scientists to focus on the data and insights rather than the programming details.\n",
    "\n",
    "In this section, we will cover\n",
    "1. [NumPy Basics](01_numpy_basics.ipynb), [NumPy Random](02_numpy_random.ipynb), [NumPy Universal Functions](03_numpy_ufunc.ipynb)\n",
    "2. [matplotlib](04_matplotlib.ipynb)\n",
    "3. [Pandas](05_pandas.ipynb)\n",
    "4. [SciPy](06_scipy.ipynb)\n",
    "\n",
    " This section was tested with Python 3.11.7."
   ]
  },
  {
   "cell_type": "code",
   "execution_count": 1,
   "metadata": {},
   "outputs": [
    {
     "name": "stdout",
     "output_type": "stream",
     "text": [
      "Requirement already satisfied: matplotlib in c:\\users\\johnm\\appdata\\local\\programs\\python\\python311\\lib\\site-packages (3.8.3)\n",
      "Requirement already satisfied: contourpy>=1.0.1 in c:\\users\\johnm\\appdata\\local\\programs\\python\\python311\\lib\\site-packages (from matplotlib) (1.2.0)\n",
      "Requirement already satisfied: cycler>=0.10 in c:\\users\\johnm\\appdata\\local\\programs\\python\\python311\\lib\\site-packages (from matplotlib) (0.12.1)\n",
      "Requirement already satisfied: fonttools>=4.22.0 in c:\\users\\johnm\\appdata\\local\\programs\\python\\python311\\lib\\site-packages (from matplotlib) (4.49.0)\n",
      "Requirement already satisfied: kiwisolver>=1.3.1 in c:\\users\\johnm\\appdata\\local\\programs\\python\\python311\\lib\\site-packages (from matplotlib) (1.4.5)\n",
      "Requirement already satisfied: numpy<2,>=1.21 in c:\\users\\johnm\\appdata\\local\\programs\\python\\python311\\lib\\site-packages (from matplotlib) (1.26.4)\n",
      "Requirement already satisfied: packaging>=20.0 in c:\\users\\johnm\\appdata\\roaming\\python\\python311\\site-packages (from matplotlib) (23.2)\n",
      "Requirement already satisfied: pillow>=8 in c:\\users\\johnm\\appdata\\local\\programs\\python\\python311\\lib\\site-packages (from matplotlib) (10.2.0)\n",
      "Requirement already satisfied: pyparsing>=2.3.1 in c:\\users\\johnm\\appdata\\local\\programs\\python\\python311\\lib\\site-packages (from matplotlib) (3.1.1)\n",
      "Requirement already satisfied: python-dateutil>=2.7 in c:\\users\\johnm\\appdata\\roaming\\python\\python311\\site-packages (from matplotlib) (2.8.2)\n",
      "Requirement already satisfied: six>=1.5 in c:\\users\\johnm\\appdata\\roaming\\python\\python311\\site-packages (from python-dateutil>=2.7->matplotlib) (1.16.0)\n",
      "Note: you may need to restart the kernel to use updated packages.\n",
      "Requirement already satisfied: numpy in c:\\users\\johnm\\appdata\\local\\programs\\python\\python311\\lib\\site-packages (1.26.4)\n",
      "Note: you may need to restart the kernel to use updated packages.\n"
     ]
    }
   ],
   "source": [
    "%pip install matplotlib\n",
    "%pip install numpy"
   ]
  }
 ],
 "metadata": {
  "kernelspec": {
   "display_name": "Python 3",
   "language": "python",
   "name": "python3"
  },
  "language_info": {
   "codemirror_mode": {
    "name": "ipython",
    "version": 3
   },
   "file_extension": ".py",
   "mimetype": "text/x-python",
   "name": "python",
   "nbconvert_exporter": "python",
   "pygments_lexer": "ipython3",
   "version": "3.11.7"
  }
 },
 "nbformat": 4,
 "nbformat_minor": 2
}

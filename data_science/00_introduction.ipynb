{
 "cells": [
  {
   "cell_type": "markdown",
   "metadata": {},
   "source": [
    "**Data science** involves extracting insights and knowledge from structured and unstructured data. Python is a popular programming language for data science due to its simplicity, versatility, and powerful libraries for data manipulation, analysis, and visualization. Here are some examples of data sience applications and tool in Python.\n",
    "\n",
    "* **Data Collection:** Data can be collected from various sources, such as databases, APIs, web scraping, or CSV/Excel files. Python provides several libraries for data collection, such as requests, BeautifulSoup, and pandas.\n",
    "* **Data Cleaning and Preprocessing:** Data cleaning and preprocessing involve cleaning and transforming the raw data into a usable format. Python provides several libraries for data cleaning and preprocessing, such as pandas, NumPy, and scikit-learn.\n",
    "* **Data Analysis:** Data analysis involves exploring and analyzing the data to extract insights and patterns. Python provides several libraries for data analysis, such as pandas, NumPy, and SciPy.\n",
    "* **Data Visualization:** Data visualization involves creating visualizations to communicate the insights and patterns found in the data. Python provides several libraries for data visualization, such as Matplotlib, Seaborn, and Plotly.\n",
    "* **Machine Learning:** Machine learning involves building predictive models from the data. Python provides several libraries for machine learning, such as scikit-learn, TensorFlow, and PyTorch.\n",
    "\n",
    "Python's powerful libraries and tools make it an ideal choice for data science tasks. With its simplicity and versatility, Python enables data scientists to focus on the data and insights rather than the programming details.\n",
    "\n",
    "In this section, we will cover\n",
    "1. [NumPy Basics](01_numpy_basics.ipynb), [NumPy Random](02_numpy_random.ipynb), [NumPy Universal Functions](03_numpy_ufunc.ipynb)\n",
    "2. [matplotlib](04_matplotlib.ipynb)\n",
    "3. [Pandas](05_pandas.ipynb)\n",
    "4. [SciPy](06_scipy.ipynb)\n",
    "\n",
    " This section was tested with Python 3.11.7."
   ]
  },
  {
   "cell_type": "code",
   "execution_count": 1,
   "metadata": {},
   "outputs": [
    {
     "name": "stdout",
     "output_type": "stream",
     "text": [
      "Requirement already satisfied: numpy in c:\\users\\johnm\\appdata\\local\\programs\\python\\python311\\lib\\site-packages (1.26.4)\n",
      "Note: you may need to restart the kernel to use updated packages.\n",
      "Requirement already satisfied: matplotlib in c:\\users\\johnm\\appdata\\local\\programs\\python\\python311\\lib\\site-packages (3.8.3)\n",
      "Requirement already satisfied: contourpy>=1.0.1 in c:\\users\\johnm\\appdata\\local\\programs\\python\\python311\\lib\\site-packages (from matplotlib) (1.2.0)\n",
      "Requirement already satisfied: cycler>=0.10 in c:\\users\\johnm\\appdata\\local\\programs\\python\\python311\\lib\\site-packages (from matplotlib) (0.12.1)\n",
      "Requirement already satisfied: fonttools>=4.22.0 in c:\\users\\johnm\\appdata\\local\\programs\\python\\python311\\lib\\site-packages (from matplotlib) (4.49.0)\n",
      "Requirement already satisfied: kiwisolver>=1.3.1 in c:\\users\\johnm\\appdata\\local\\programs\\python\\python311\\lib\\site-packages (from matplotlib) (1.4.5)\n",
      "Requirement already satisfied: numpy<2,>=1.21 in c:\\users\\johnm\\appdata\\local\\programs\\python\\python311\\lib\\site-packages (from matplotlib) (1.26.4)\n",
      "Requirement already satisfied: packaging>=20.0 in c:\\users\\johnm\\appdata\\roaming\\python\\python311\\site-packages (from matplotlib) (23.2)\n",
      "Requirement already satisfied: pillow>=8 in c:\\users\\johnm\\appdata\\local\\programs\\python\\python311\\lib\\site-packages (from matplotlib) (10.2.0)\n",
      "Requirement already satisfied: pyparsing>=2.3.1 in c:\\users\\johnm\\appdata\\local\\programs\\python\\python311\\lib\\site-packages (from matplotlib) (3.1.1)\n",
      "Requirement already satisfied: python-dateutil>=2.7 in c:\\users\\johnm\\appdata\\roaming\\python\\python311\\site-packages (from matplotlib) (2.8.2)\n",
      "Requirement already satisfied: six>=1.5 in c:\\users\\johnm\\appdata\\roaming\\python\\python311\\site-packages (from python-dateutil>=2.7->matplotlib) (1.16.0)\n",
      "Note: you may need to restart the kernel to use updated packages.\n",
      "Collecting pandasNote: you may need to restart the kernel to use updated packages.\n",
      "\n",
      "  Downloading pandas-2.2.1-cp311-cp311-win_amd64.whl.metadata (19 kB)\n",
      "Requirement already satisfied: numpy<2,>=1.23.2 in c:\\users\\johnm\\appdata\\local\\programs\\python\\python311\\lib\\site-packages (from pandas) (1.26.4)\n",
      "Requirement already satisfied: python-dateutil>=2.8.2 in c:\\users\\johnm\\appdata\\roaming\\python\\python311\\site-packages (from pandas) (2.8.2)\n",
      "Collecting pytz>=2020.1 (from pandas)\n",
      "  Using cached pytz-2024.1-py2.py3-none-any.whl.metadata (22 kB)\n",
      "Collecting tzdata>=2022.7 (from pandas)\n",
      "  Using cached tzdata-2024.1-py2.py3-none-any.whl.metadata (1.4 kB)\n",
      "Requirement already satisfied: six>=1.5 in c:\\users\\johnm\\appdata\\roaming\\python\\python311\\site-packages (from python-dateutil>=2.8.2->pandas) (1.16.0)\n",
      "Downloading pandas-2.2.1-cp311-cp311-win_amd64.whl (11.6 MB)\n",
      "   ---------------------------------------- 0.0/11.6 MB ? eta -:--:--\n",
      "   ---------------------------------------- 0.0/11.6 MB 991.0 kB/s eta 0:00:12\n",
      "    --------------------------------------- 0.2/11.6 MB 3.6 MB/s eta 0:00:04\n",
      "   --- ------------------------------------ 1.0/11.6 MB 8.2 MB/s eta 0:00:02\n",
      "   -------- ------------------------------- 2.5/11.6 MB 14.2 MB/s eta 0:00:01\n",
      "   --------------- ------------------------ 4.4/11.6 MB 20.0 MB/s eta 0:00:01\n",
      "   ---------------------- ----------------- 6.5/11.6 MB 24.6 MB/s eta 0:00:01\n",
      "   ------------------------------ --------- 8.7/11.6 MB 27.9 MB/s eta 0:00:01\n",
      "   ------------------------------------- -- 10.8/11.6 MB 43.5 MB/s eta 0:00:01\n",
      "   ---------------------------------------- 11.6/11.6 MB 40.9 MB/s eta 0:00:00\n",
      "Using cached pytz-2024.1-py2.py3-none-any.whl (505 kB)\n",
      "Using cached tzdata-2024.1-py2.py3-none-any.whl (345 kB)\n",
      "Installing collected packages: pytz, tzdata, pandas\n",
      "Successfully installed pandas-2.2.1 pytz-2024.1 tzdata-2024.1\n",
      "Requirement already satisfied: scipy in c:\\users\\johnm\\appdata\\local\\programs\\python\\python311\\lib\\site-packages (1.12.0)\n",
      "Requirement already satisfied: numpy<1.29.0,>=1.22.4 in c:\\users\\johnm\\appdata\\local\\programs\\python\\python311\\lib\\site-packages (from scipy) (1.26.4)\n",
      "Note: you may need to restart the kernel to use updated packages.\n"
     ]
    }
   ],
   "source": [
    "%pip install numpy\n",
    "%pip install matplotlib\n",
    "%pip install pandas\n",
    "%pip install scipy"
   ]
  }
 ],
 "metadata": {
  "kernelspec": {
   "display_name": "Python 3",
   "language": "python",
   "name": "python3"
  },
  "language_info": {
   "codemirror_mode": {
    "name": "ipython",
    "version": 3
   },
   "file_extension": ".py",
   "mimetype": "text/x-python",
   "name": "python",
   "nbconvert_exporter": "python",
   "pygments_lexer": "ipython3",
   "version": "3.11.7"
  }
 },
 "nbformat": 4,
 "nbformat_minor": 2
}

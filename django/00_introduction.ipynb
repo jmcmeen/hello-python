{
 "cells": [
  {
   "cell_type": "markdown",
   "metadata": {},
   "source": [
    "# Django\n",
    "\n",
    "Django is a free and open-source web framework written in Python. It is a high-level framework that enables rapid development of secure, maintainable, and scalable websites. Django provides an architecture, templates, and APIs for developers to build robust and efficient web applications. It is known for its \"batteries included\" approach, which means that it comes with many built-in features such as an ORM (Object-Relational Mapping) system, authentication and authorization, and a template engine. Django's modular design allows developers to easily extend and customize the framework to fit their specific needs. With Django, developers can quickly build complex web applications with a robust and scalable architecture, making it a popular choice for building web applications, especially for those who are new to web development.\n",
    "\n",
    "It is highly reccomended that you walk through the Django tutorial [here](https://docs.djangoproject.com/en/5.0/intro/tutorial01/).\n",
    "\n",
    "To run the examples in this section, change directories to an example and run the built-in development server.\n",
    "`python .\\manage.py runserver`\n",
    "\n",
    "Tested with Python 3.11.7"
   ]
  },
  {
   "cell_type": "code",
   "execution_count": null,
   "metadata": {},
   "outputs": [],
   "source": [
    "%pip install django"
   ]
  }
 ],
 "metadata": {
  "kernelspec": {
   "display_name": "Python 3",
   "language": "python",
   "name": "python3"
  },
  "language_info": {
   "codemirror_mode": {
    "name": "ipython",
    "version": 3
   },
   "file_extension": ".py",
   "mimetype": "text/x-python",
   "name": "python",
   "nbconvert_exporter": "python",
   "pygments_lexer": "ipython3",
   "version": "3.11.7"
  }
 },
 "nbformat": 4,
 "nbformat_minor": 2
}

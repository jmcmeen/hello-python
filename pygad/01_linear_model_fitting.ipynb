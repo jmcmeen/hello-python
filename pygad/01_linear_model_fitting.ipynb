{
 "cells": [
  {
   "cell_type": "code",
   "execution_count": null,
   "metadata": {},
   "outputs": [],
   "source": [
    "import pygad\n",
    "import numpy\n",
    "\n",
    "function_inputs = [5, -3, 4.2, 6, -12, -3.7, 7.2]\n",
    "desired_output = 42\n",
    "\n",
    "def fitness_func(ga_instance, solution, solution_idx):\n",
    "    output = numpy.sum(solution*function_inputs)\n",
    "    fitness = 1.0 / numpy.abs(output - desired_output)\n",
    "    return fitness\n"
   ]
  },
  {
   "cell_type": "markdown",
   "metadata": {},
   "source": [
    "Now we set up GA parameters. "
   ]
  },
  {
   "cell_type": "code",
   "execution_count": null,
   "metadata": {},
   "outputs": [],
   "source": [
    "fitness_function = fitness_func\n",
    "\n",
    "num_generations = 50\n",
    "num_parents_mating = 4\n",
    "\n",
    "sol_per_pop = 8\n",
    "num_genes = len(function_inputs)\n",
    "\n",
    "init_range_low = -2\n",
    "init_range_high = 5\n",
    "\n",
    "parent_selection_type = \"sss\"\n",
    "keep_parents = 1\n",
    "\n",
    "crossover_type = \"single_point\"\n",
    "\n",
    "mutation_type = \"random\"\n",
    "mutation_percent_genes = 40"
   ]
  },
  {
   "cell_type": "markdown",
   "metadata": {},
   "source": [
    "After the GA parameters are specified, the pygad.GA class is instantiated."
   ]
  },
  {
   "cell_type": "code",
   "execution_count": null,
   "metadata": {},
   "outputs": [],
   "source": [
    "ga_instance = pygad.GA(num_generations=num_generations,\n",
    "                       num_parents_mating=num_parents_mating,\n",
    "                       fitness_func=fitness_function,\n",
    "                       sol_per_pop=sol_per_pop,\n",
    "                       num_genes=num_genes,\n",
    "                       init_range_low=init_range_low,\n",
    "                       init_range_high=init_range_high,\n",
    "                       parent_selection_type=parent_selection_type,\n",
    "                       keep_parents=keep_parents,\n",
    "                       crossover_type=crossover_type,\n",
    "                       mutation_type=mutation_type,\n",
    "                       mutation_percent_genes=mutation_percent_genes)"
   ]
  },
  {
   "cell_type": "markdown",
   "metadata": {},
   "source": [
    "Now we run the GA and print the results."
   ]
  },
  {
   "cell_type": "code",
   "execution_count": null,
   "metadata": {},
   "outputs": [],
   "source": [
    "ga_instance.run()\n",
    "\n",
    "solution, solution_fitness, solution_idx = ga_instance.best_solution()\n",
    "print(\"Parameters of the best solution : {solution}\".format(solution=solution))\n",
    "print(\"Fitness value of the best solution = {solution_fitness}\".format(solution_fitness=solution_fitness))\n",
    "\n",
    "prediction = numpy.sum(numpy.array(function_inputs)*solution)\n",
    "print(\"Predicted output based on the best solution : {prediction}\".format(prediction=prediction))"
   ]
  },
  {
   "cell_type": "markdown",
   "metadata": {},
   "source": [
    "**Linear Model Fitting:** Using PyGAD, a wide range of problems can be optimized. A quick and simple problem to be optimized using the PyGAD is finding the best set of weights that satisfy a function\n",
    "\n",
    "Assume there is an equation with 7 inputs, 1 output, and 7 parameters, as follows:\n",
    "\n",
    "y = f(w1:w7) = w1x1 + w2x2 + w3x3 + w4x4 + w5x5 + w6x6 + w7x7\n",
    "\n",
    "where (x1, x2, x3, x4, x5, x6, x7)=(5, -3, 4.2, 6, -12, -3.7, 7.2) and y=42\n",
    "\n",
    "What are the values for the 7 parameters to satisfy the equation? The genetic algorithm can be used to find the answer.\n",
    "\n",
    "Begin by defining the fitness function. This function computes the sum of products between each input and its corresponding parameter. It calculates the absolute difference between the desired output and this sum. Since the fitness function should be a maximization function, the returned fitness value is set to 1.0 divided by the difference. Solutions with the highest fitness values are chosen as parents."
   ]
  },
  {
   "cell_type": "markdown",
   "metadata": {},
   "source": [
    "Now we set up GA parameters. "
   ]
  },
  {
   "cell_type": "markdown",
   "metadata": {},
   "source": [
    "After the GA parameters are specified, the pygad.GA class is instantiated."
   ]
  },
  {
   "cell_type": "markdown",
   "metadata": {},
   "source": [
    "Now we run the GA and print the results."
   ]
  }
 ],
 "metadata": {
  "kernelspec": {
   "display_name": ".venv",
   "language": "python",
   "name": "python3"
  },
  "language_info": {
   "codemirror_mode": {
    "name": "ipython",
    "version": 3
   },
   "file_extension": ".py",
   "mimetype": "text/x-python",
   "name": "python",
   "nbconvert_exporter": "python",
   "pygments_lexer": "ipython3",
   "version": "3.11.7"
  }
 },
 "nbformat": 4,
 "nbformat_minor": 2
}

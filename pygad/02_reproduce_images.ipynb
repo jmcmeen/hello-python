{
 "cells": [
  {
   "cell_type": "markdown",
   "metadata": {},
   "source": [
    "**Image Reproduction:** Here we demonstrate a genetic algorithm that attempts to recreate an image. This is a long running algorithm!"
   ]
  },
  {
   "cell_type": "code",
   "execution_count": null,
   "metadata": {},
   "outputs": [],
   "source": [
    "import pygad\n",
    "import numpy\n",
    "import matplotlib.pyplot\n",
    "import imageio\n",
    "import numpy\n",
    "import functools\n",
    "import operator\n",
    "\n",
    "target_im = imageio.imread('upland.jpg')\n",
    "target_im = numpy.asarray(target_im/255, dtype=float)\n",
    "\n",
    "def img2chromosome(img_arr):\n",
    "\n",
    "    return numpy.reshape(a=img_arr, newshape=(functools.reduce(operator.mul, img_arr.shape)))\n",
    "\n",
    "def chromosome2img(vector, shape):\n",
    "    # Check if the vector can be reshaped according to the specified shape.\n",
    "    if len(vector) != functools.reduce(operator.mul, shape):\n",
    "        raise ValueError(\"A vector of length {vector_length} into an array of shape {shape}.\".format(vector_length=len(vector), shape=shape))\n",
    "\n",
    "    return numpy.reshape(a=vector, newshape=shape)\n",
    "\n",
    "target_chromosome = img2chromosome(target_im)\n",
    "\n",
    "def fitness_fun(gainstance,solution, solution_idx):\n",
    "    fitness = numpy.sum(numpy.abs(target_chromosome-solution))\n",
    "\n",
    "    # Negating the fitness value to make it increasing rather than decreasing.\n",
    "    fitness = numpy.sum(target_chromosome) - fitness\n",
    "    return fitness\n",
    "\n",
    "\n",
    "ga_instance = pygad.GA(num_generations=20000,\n",
    "                       num_parents_mating=10,\n",
    "                       fitness_func=fitness_fun,\n",
    "                       sol_per_pop=20,\n",
    "                       num_genes=target_im.size,\n",
    "                       init_range_low=0.0,\n",
    "                       init_range_high=1.0,\n",
    "                       mutation_percent_genes=0.01,\n",
    "                       mutation_type=\"random\",\n",
    "                       mutation_by_replacement=True,\n",
    "                       random_mutation_min_val=0.0,\n",
    "                       random_mutation_max_val=1.0)\n",
    "\n",
    "ga_instance.run()\n",
    "\n",
    "#ga_instance.plot_result()\n",
    "\n",
    "solution, solution_fitness, solution_idx = ga_instance.best_solution()\n",
    "print(\"Fitness value of the best solution = {solution_fitness}\".format(solution_fitness=solution_fitness))\n",
    "print(\"Index of the best solution : {solution_idx}\".format(solution_idx=solution_idx))\n",
    "\n",
    "result = chromosome2img(solution, target_im.shape)\n",
    "matplotlib.pyplot.imshow(result)\n",
    "matplotlib.pyplot.show()"
   ]
  }
 ],
 "metadata": {
  "kernelspec": {
   "display_name": "Python 3",
   "language": "python",
   "name": "python3"
  },
  "language_info": {
   "codemirror_mode": {
    "name": "ipython",
    "version": 3
   },
   "file_extension": ".py",
   "mimetype": "text/x-python",
   "name": "python",
   "nbconvert_exporter": "python",
   "pygments_lexer": "ipython3",
   "version": "3.11.8"
  }
 },
 "nbformat": 4,
 "nbformat_minor": 2
}

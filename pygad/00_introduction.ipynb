{
 "cells": [
  {
   "cell_type": "markdown",
   "metadata": {},
   "source": [
    "# PyGAD #\n",
    "PyGAD is an open-source Python library designed for building and optimizing genetic algorithms (GAs) as well as training machine learning algorithms using Keras and PyTorch. PyGAD serves as a versatile optimization library, allowing users to customize various parameters throughout the lifecycle of a genetic algorithm instance. These parameters include population size, fitness functions, gene value space, gene data types, parent selection, crossover, and mutation.\n",
    "\n",
    " Features:\n",
    " * Genetic Algorithm Support: PyGAD provides an implementation of the genetic algorithm that is both easy to use and powerful. It supports both single-objective and multi-objective problems.\n",
    " * Customization: Users can customize crossover, mutation, and parent selection methods.\n",
    " * Fitness Function Customization: PyGAD allows users to define their own fitness functions, making it adaptable to different problem domains.\n",
    " * Machine Learning Integration: It seamlessly integrates with Keras and PyTorch, enabling optimization of machine learning models.\n",
    "\n",
    " This section was tested with Python 3.11.8."
   ]
  },
  {
   "cell_type": "code",
   "execution_count": null,
   "metadata": {},
   "outputs": [],
   "source": [
    "# install dependencies\n",
    "%pip install pygad\n",
    "%pip install numpy\n",
    "%pip install imageio"
   ]
  }
 ],
 "metadata": {
  "kernelspec": {
   "display_name": "Python 3",
   "language": "python",
   "name": "python3"
  },
  "language_info": {
   "codemirror_mode": {
    "name": "ipython",
    "version": 3
   },
   "file_extension": ".py",
   "mimetype": "text/x-python",
   "name": "python",
   "nbconvert_exporter": "python",
   "pygments_lexer": "ipython3",
   "version": "3.11.8"
  }
 },
 "nbformat": 4,
 "nbformat_minor": 2
}

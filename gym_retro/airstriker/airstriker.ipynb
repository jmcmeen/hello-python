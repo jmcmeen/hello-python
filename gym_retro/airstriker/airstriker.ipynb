{
 "cells": [
  {
   "cell_type": "code",
   "execution_count": 2,
   "metadata": {},
   "outputs": [
    {
     "name": "stdout",
     "output_type": "stream",
     "text": [
      "^C\n",
      "Note: you may need to restart the kernel to use updated packages.\n"
     ]
    },
    {
     "name": "stdout",
     "output_type": "stream",
     "text": [
      "Collecting setuptools==56.0.0 (from -r requirements.txt (line 1))\n",
      "  Obtaining dependency information for setuptools==56.0.0 from https://files.pythonhosted.org/packages/ae/42/2876a3a136f8bfa9bd703518441c8db78ff1eeaddf174baa85c083c1fd15/setuptools-56.0.0-py3-none-any.whl.metadata\n",
      "  Downloading setuptools-56.0.0-py3-none-any.whl.metadata (4.8 kB)\n",
      "Requirement already satisfied: cloudpickle==1.6.0 in c:\\users\\johnm\\appdata\\local\\programs\\python\\python38\\lib\\site-packages (from -r requirements.txt (line 2)) (1.6.0)\n",
      "Requirement already satisfied: gym==0.20.0 in c:\\users\\johnm\\appdata\\local\\programs\\python\\python38\\lib\\site-packages (from -r requirements.txt (line 3)) (0.20.0)\n",
      "Requirement already satisfied: gym-notices==0.0.8 in c:\\users\\johnm\\appdata\\local\\programs\\python\\python38\\lib\\site-packages (from -r requirements.txt (line 4)) (0.0.8)\n",
      "Requirement already satisfied: gym-retro==0.8.0 in c:\\users\\johnm\\appdata\\local\\programs\\python\\python38\\lib\\site-packages (from -r requirements.txt (line 5)) (0.8.0)\n",
      "Collecting importlib-metadata==7.0.0 (from -r requirements.txt (line 6))\n",
      "  Obtaining dependency information for importlib-metadata==7.0.0 from https://files.pythonhosted.org/packages/73/26/9777cfe0cdc8181a32eaf542f4a2a435e5aba5dd38f41cfc0a532dc51027/importlib_metadata-7.0.0-py3-none-any.whl.metadata\n",
      "  Using cached importlib_metadata-7.0.0-py3-none-any.whl.metadata (4.9 kB)\n",
      "Requirement already satisfied: neat-python==0.92 in c:\\users\\johnm\\appdata\\local\\programs\\python\\python38\\lib\\site-packages (from -r requirements.txt (line 7)) (0.92)\n",
      "Requirement already satisfied: numpy==1.20.0 in c:\\users\\johnm\\appdata\\local\\programs\\python\\python38\\lib\\site-packages (from -r requirements.txt (line 8)) (1.20.0)\n",
      "Requirement already satisfied: opencv-python==4.5.1.48 in c:\\users\\johnm\\appdata\\local\\programs\\python\\python38\\lib\\site-packages (from -r requirements.txt (line 9)) (4.5.1.48)\n",
      "Collecting pyglet==1.5.28 (from -r requirements.txt (line 10))\n",
      "  Obtaining dependency information for pyglet==1.5.28 from https://files.pythonhosted.org/packages/66/04/e03cfc5ec197a711216b36b01054c551539c5422d4a372685b6ae6493399/pyglet-1.5.28-py3-none-any.whl.metadata\n",
      "  Using cached pyglet-1.5.28-py3-none-any.whl.metadata (7.6 kB)\n",
      "Collecting zipp==3.17.0 (from -r requirements.txt (line 11))\n",
      "  Obtaining dependency information for zipp==3.17.0 from https://files.pythonhosted.org/packages/d9/66/48866fc6b158c81cc2bfecc04c480f105c6040e8b077bc54c634b4a67926/zipp-3.17.0-py3-none-any.whl.metadata\n",
      "  Using cached zipp-3.17.0-py3-none-any.whl.metadata (3.7 kB)\n",
      "Collecting pip==21.1.1 (from -r requirements.txt (line 12))\n",
      "  Obtaining dependency information for pip==21.1.1 from https://files.pythonhosted.org/packages/cd/6f/43037c7bcc8bd8ba7c9074256b1a11596daa15555808ec748048c1507f08/pip-21.1.1-py3-none-any.whl.metadata\n",
      "  Downloading pip-21.1.1-py3-none-any.whl.metadata (4.1 kB)\n",
      "Using cached setuptools-56.0.0-py3-none-any.whl (784 kB)\n",
      "Using cached importlib_metadata-7.0.0-py3-none-any.whl (23 kB)\n",
      "Using cached pyglet-1.5.28-py3-none-any.whl (1.1 MB)\n",
      "Using cached zipp-3.17.0-py3-none-any.whl (7.4 kB)\n",
      "Using cached pip-21.1.1-py3-none-any.whl (1.5 MB)\n",
      "Installing collected packages: pyglet, zipp, setuptools, pip, importlib-metadata\n",
      "  Attempting uninstall: pyglet\n",
      "    Found existing installation: pyglet 1.5.14\n",
      "    Uninstalling pyglet-1.5.14:\n",
      "      Successfully uninstalled pyglet-1.5.14\n",
      "  Attempting uninstall: zipp\n",
      "    Found existing installation: zipp 3.7.0\n",
      "    Uninstalling zipp-3.7.0:\n",
      "      Successfully uninstalled zipp-3.7.0\n",
      "  Attempting uninstall: setuptools\n",
      "    Found existing installation: setuptools 49.2.1\n",
      "    Uninstalling setuptools-49.2.1:\n",
      "      Successfully uninstalled setuptools-49.2.1\n",
      "  Attempting uninstall: pip\n",
      "    Found existing installation: pip 23.2.1\n",
      "    Uninstalling pip-23.2.1:\n",
      "      Successfully uninstalled pip-23.2.1\n",
      "  Attempting uninstall: importlib-metadata\n",
      "    Found existing installation: importlib-metadata 4.10.1\n",
      "    Uninstalling importlib-metadata-4.10.1:\n",
      "      Successfully uninstalled importlib-metadata-4.10.1\n",
      "Successfully installed importlib-metadata-7.0.0 pip-21.1.1 pyglet-1.5.28 setuptools-56.0.0 zipp-3.17.0\n"
     ]
    },
    {
     "name": "stderr",
     "output_type": "stream",
     "text": [
      "ERROR: pip's dependency resolver does not currently take into account all the packages that are installed. This behaviour is the source of the following dependency conflicts.\n",
      "tensorflow 2.8.0 requires keras<2.9,>=2.8.0rc0, but you have keras 2.10.0 which is incompatible.\n",
      "tensorflow 2.8.0 requires tensorboard<2.9,>=2.8, but you have tensorboard 2.10.1 which is incompatible.\n"
     ]
    }
   ],
   "source": [
    "%pip install -r requirements.txt"
   ]
  },
  {
   "cell_type": "markdown",
   "metadata": {},
   "source": [
    "Gym Retro + NEAT\n",
    "\n",
    "Tested with Python 3.8.7"
   ]
  },
  {
   "cell_type": "code",
   "execution_count": null,
   "metadata": {},
   "outputs": [
    {
     "name": "stdout",
     "output_type": "stream",
     "text": [
      "\n",
      " ****** Running generation 0 ****** \n",
      "\n"
     ]
    },
    {
     "name": "stderr",
     "output_type": "stream",
     "text": [
      "c:\\Users\\johnm\\AppData\\Local\\Programs\\Python\\Python38\\lib\\site-packages\\pyglet\\image\\codecs\\wic.py:289: UserWarning: [WinError -2147417850] Cannot change thread mode after it is set\n",
      "  warnings.warn(str(err))\n"
     ]
    },
    {
     "ename": "KeyboardInterrupt",
     "evalue": "",
     "output_type": "error",
     "traceback": [
      "\u001b[1;31m---------------------------------------------------------------------------\u001b[0m",
      "\u001b[1;31mKeyboardInterrupt\u001b[0m                         Traceback (most recent call last)",
      "Cell \u001b[1;32mIn [1], line 102\u001b[0m\n\u001b[0;32m     99\u001b[0m population\u001b[38;5;241m.\u001b[39madd_reporter(neat\u001b[38;5;241m.\u001b[39mCheckpointer(\u001b[38;5;241m10\u001b[39m))\n\u001b[0;32m    101\u001b[0m \u001b[38;5;66;03m# the winning network, run for x generations\u001b[39;00m\n\u001b[1;32m--> 102\u001b[0m winner \u001b[38;5;241m=\u001b[39m \u001b[43mpopulation\u001b[49m\u001b[38;5;241;43m.\u001b[39;49m\u001b[43mrun\u001b[49m\u001b[43m(\u001b[49m\u001b[43meval_genomes\u001b[49m\u001b[43m,\u001b[49m\u001b[43m \u001b[49m\u001b[38;5;241;43m1\u001b[39;49m\u001b[43m)\u001b[49m\n\u001b[0;32m    104\u001b[0m \u001b[38;5;66;03m# save the winning network to a binary file to reload later\u001b[39;00m\n\u001b[0;32m    105\u001b[0m \u001b[38;5;28;01mwith\u001b[39;00m \u001b[38;5;28mopen\u001b[39m(\u001b[38;5;124m'\u001b[39m\u001b[38;5;124mwinner-act1-45gen.pkl\u001b[39m\u001b[38;5;124m'\u001b[39m, \u001b[38;5;124m'\u001b[39m\u001b[38;5;124mwb\u001b[39m\u001b[38;5;124m'\u001b[39m) \u001b[38;5;28;01mas\u001b[39;00m output:\n",
      "File \u001b[1;32mc:\\Users\\johnm\\AppData\\Local\\Programs\\Python\\Python38\\lib\\site-packages\\neat\\population.py:89\u001b[0m, in \u001b[0;36mPopulation.run\u001b[1;34m(self, fitness_function, n)\u001b[0m\n\u001b[0;32m     86\u001b[0m \u001b[38;5;28mself\u001b[39m\u001b[38;5;241m.\u001b[39mreporters\u001b[38;5;241m.\u001b[39mstart_generation(\u001b[38;5;28mself\u001b[39m\u001b[38;5;241m.\u001b[39mgeneration)\n\u001b[0;32m     88\u001b[0m \u001b[38;5;66;03m# Evaluate all genomes using the user-provided function.\u001b[39;00m\n\u001b[1;32m---> 89\u001b[0m \u001b[43mfitness_function\u001b[49m\u001b[43m(\u001b[49m\u001b[38;5;28;43mlist\u001b[39;49m\u001b[43m(\u001b[49m\u001b[43miteritems\u001b[49m\u001b[43m(\u001b[49m\u001b[38;5;28;43mself\u001b[39;49m\u001b[38;5;241;43m.\u001b[39;49m\u001b[43mpopulation\u001b[49m\u001b[43m)\u001b[49m\u001b[43m)\u001b[49m\u001b[43m,\u001b[49m\u001b[43m \u001b[49m\u001b[38;5;28;43mself\u001b[39;49m\u001b[38;5;241;43m.\u001b[39;49m\u001b[43mconfig\u001b[49m\u001b[43m)\u001b[49m\n\u001b[0;32m     91\u001b[0m \u001b[38;5;66;03m# Gather and report statistics.\u001b[39;00m\n\u001b[0;32m     92\u001b[0m best \u001b[38;5;241m=\u001b[39m \u001b[38;5;28;01mNone\u001b[39;00m\n",
      "Cell \u001b[1;32mIn [1], line 47\u001b[0m, in \u001b[0;36meval_genomes\u001b[1;34m(genomes, config)\u001b[0m\n\u001b[0;32m     44\u001b[0m finished \u001b[38;5;241m=\u001b[39m \u001b[38;5;28;01mFalse\u001b[39;00m\n\u001b[0;32m     45\u001b[0m \u001b[38;5;28;01mwhile\u001b[39;00m \u001b[38;5;129;01mnot\u001b[39;00m finished:\n\u001b[0;32m     46\u001b[0m     \u001b[38;5;66;03m# render the game\u001b[39;00m\n\u001b[1;32m---> 47\u001b[0m     \u001b[43menvironment\u001b[49m\u001b[38;5;241;43m.\u001b[39;49m\u001b[43mrender\u001b[49m\u001b[43m(\u001b[49m\u001b[43m)\u001b[49m\n\u001b[0;32m     49\u001b[0m     \u001b[38;5;66;03m# resize and reshape the observation image\u001b[39;00m\n\u001b[0;32m     50\u001b[0m     observation \u001b[38;5;241m=\u001b[39m cv2\u001b[38;5;241m.\u001b[39mresize(observation, (inx, iny))\n",
      "File \u001b[1;32mc:\\Users\\johnm\\AppData\\Local\\Programs\\Python\\Python38\\lib\\site-packages\\retro\\retro_env.py:230\u001b[0m, in \u001b[0;36mRetroEnv.render\u001b[1;34m(self, mode, close)\u001b[0m\n\u001b[0;32m    228\u001b[0m     \u001b[38;5;28;01mfrom\u001b[39;00m \u001b[38;5;21;01mgym\u001b[39;00m\u001b[38;5;21;01m.\u001b[39;00m\u001b[38;5;21;01menvs\u001b[39;00m\u001b[38;5;21;01m.\u001b[39;00m\u001b[38;5;21;01mclassic_control\u001b[39;00m\u001b[38;5;21;01m.\u001b[39;00m\u001b[38;5;21;01mrendering\u001b[39;00m \u001b[38;5;28;01mimport\u001b[39;00m SimpleImageViewer\n\u001b[0;32m    229\u001b[0m     \u001b[38;5;28mself\u001b[39m\u001b[38;5;241m.\u001b[39mviewer \u001b[38;5;241m=\u001b[39m SimpleImageViewer()\n\u001b[1;32m--> 230\u001b[0m \u001b[38;5;28;43mself\u001b[39;49m\u001b[38;5;241;43m.\u001b[39;49m\u001b[43mviewer\u001b[49m\u001b[38;5;241;43m.\u001b[39;49m\u001b[43mimshow\u001b[49m\u001b[43m(\u001b[49m\u001b[43mimg\u001b[49m\u001b[43m)\u001b[49m\n\u001b[0;32m    231\u001b[0m \u001b[38;5;28;01mreturn\u001b[39;00m \u001b[38;5;28mself\u001b[39m\u001b[38;5;241m.\u001b[39mviewer\u001b[38;5;241m.\u001b[39misopen\n",
      "File \u001b[1;32mc:\\Users\\johnm\\AppData\\Local\\Programs\\Python\\Python38\\lib\\site-packages\\gym\\envs\\classic_control\\rendering.py:441\u001b[0m, in \u001b[0;36mSimpleImageViewer.imshow\u001b[1;34m(self, arr)\u001b[0m\n\u001b[0;32m    437\u001b[0m \u001b[38;5;28;01massert\u001b[39;00m \u001b[38;5;28mlen\u001b[39m(arr\u001b[38;5;241m.\u001b[39mshape) \u001b[38;5;241m==\u001b[39m \u001b[38;5;241m3\u001b[39m, \u001b[38;5;124m\"\u001b[39m\u001b[38;5;124mYou passed in an image with the wrong number shape\u001b[39m\u001b[38;5;124m\"\u001b[39m\n\u001b[0;32m    438\u001b[0m image \u001b[38;5;241m=\u001b[39m pyglet\u001b[38;5;241m.\u001b[39mimage\u001b[38;5;241m.\u001b[39mImageData(\n\u001b[0;32m    439\u001b[0m     arr\u001b[38;5;241m.\u001b[39mshape[\u001b[38;5;241m1\u001b[39m], arr\u001b[38;5;241m.\u001b[39mshape[\u001b[38;5;241m0\u001b[39m], \u001b[38;5;124m\"\u001b[39m\u001b[38;5;124mRGB\u001b[39m\u001b[38;5;124m\"\u001b[39m, arr\u001b[38;5;241m.\u001b[39mtobytes(), pitch\u001b[38;5;241m=\u001b[39marr\u001b[38;5;241m.\u001b[39mshape[\u001b[38;5;241m1\u001b[39m] \u001b[38;5;241m*\u001b[39m \u001b[38;5;241m-\u001b[39m\u001b[38;5;241m3\u001b[39m\n\u001b[0;32m    440\u001b[0m )\n\u001b[1;32m--> 441\u001b[0m texture \u001b[38;5;241m=\u001b[39m \u001b[43mimage\u001b[49m\u001b[38;5;241;43m.\u001b[39;49m\u001b[43mget_texture\u001b[49m\u001b[43m(\u001b[49m\u001b[43m)\u001b[49m\n\u001b[0;32m    442\u001b[0m gl\u001b[38;5;241m.\u001b[39mglTexParameteri(gl\u001b[38;5;241m.\u001b[39mGL_TEXTURE_2D, gl\u001b[38;5;241m.\u001b[39mGL_TEXTURE_MAG_FILTER, gl\u001b[38;5;241m.\u001b[39mGL_NEAREST)\n\u001b[0;32m    443\u001b[0m texture\u001b[38;5;241m.\u001b[39mwidth \u001b[38;5;241m=\u001b[39m \u001b[38;5;28mself\u001b[39m\u001b[38;5;241m.\u001b[39mwidth\n",
      "File \u001b[1;32mc:\\Users\\johnm\\AppData\\Local\\Programs\\Python\\Python38\\lib\\site-packages\\pyglet\\image\\__init__.py:834\u001b[0m, in \u001b[0;36mImageData.get_texture\u001b[1;34m(self, rectangle, force_rectangle)\u001b[0m\n\u001b[0;32m    831\u001b[0m \u001b[38;5;28;01mdef\u001b[39;00m \u001b[38;5;21mget_texture\u001b[39m(\u001b[38;5;28mself\u001b[39m, rectangle\u001b[38;5;241m=\u001b[39m\u001b[38;5;28;01mFalse\u001b[39;00m, force_rectangle\u001b[38;5;241m=\u001b[39m\u001b[38;5;28;01mFalse\u001b[39;00m):\n\u001b[0;32m    832\u001b[0m     \u001b[38;5;28;01mif\u001b[39;00m (\u001b[38;5;129;01mnot\u001b[39;00m \u001b[38;5;28mself\u001b[39m\u001b[38;5;241m.\u001b[39m_current_texture \u001b[38;5;129;01mor\u001b[39;00m\n\u001b[0;32m    833\u001b[0m             (\u001b[38;5;129;01mnot\u001b[39;00m \u001b[38;5;28mself\u001b[39m\u001b[38;5;241m.\u001b[39m_current_texture\u001b[38;5;241m.\u001b[39m_is_rectangle \u001b[38;5;129;01mand\u001b[39;00m force_rectangle)):\n\u001b[1;32m--> 834\u001b[0m         \u001b[38;5;28mself\u001b[39m\u001b[38;5;241m.\u001b[39m_current_texture \u001b[38;5;241m=\u001b[39m \u001b[38;5;28;43mself\u001b[39;49m\u001b[38;5;241;43m.\u001b[39;49m\u001b[43mcreate_texture\u001b[49m\u001b[43m(\u001b[49m\u001b[43mTexture\u001b[49m\u001b[43m,\u001b[49m\u001b[43m \u001b[49m\u001b[43mrectangle\u001b[49m\u001b[43m,\u001b[49m\u001b[43m \u001b[49m\u001b[43mforce_rectangle\u001b[49m\u001b[43m)\u001b[49m\n\u001b[0;32m    835\u001b[0m     \u001b[38;5;28;01mreturn\u001b[39;00m \u001b[38;5;28mself\u001b[39m\u001b[38;5;241m.\u001b[39m_current_texture\n",
      "File \u001b[1;32mc:\\Users\\johnm\\AppData\\Local\\Programs\\Python\\Python38\\lib\\site-packages\\pyglet\\image\\__init__.py:820\u001b[0m, in \u001b[0;36mImageData.create_texture\u001b[1;34m(self, cls, rectangle, force_rectangle)\u001b[0m\n\u001b[0;32m    797\u001b[0m \u001b[38;5;124;03m\"\"\"Create a texture containing this image.\u001b[39;00m\n\u001b[0;32m    798\u001b[0m \n\u001b[0;32m    799\u001b[0m \u001b[38;5;124;03mIf the image's dimensions are not powers of 2, a TextureRegion of\u001b[39;00m\n\u001b[1;32m   (...)\u001b[0m\n\u001b[0;32m    817\u001b[0m \u001b[38;5;124;03m:rtype: cls or cls.region_class\u001b[39;00m\n\u001b[0;32m    818\u001b[0m \u001b[38;5;124;03m\"\"\"\u001b[39;00m\n\u001b[0;32m    819\u001b[0m internalformat \u001b[38;5;241m=\u001b[39m \u001b[38;5;28mself\u001b[39m\u001b[38;5;241m.\u001b[39m_get_internalformat(\u001b[38;5;28mself\u001b[39m\u001b[38;5;241m.\u001b[39mformat)\n\u001b[1;32m--> 820\u001b[0m texture \u001b[38;5;241m=\u001b[39m \u001b[38;5;28;43mcls\u001b[39;49m\u001b[38;5;241;43m.\u001b[39;49m\u001b[43mcreate\u001b[49m\u001b[43m(\u001b[49m\u001b[38;5;28;43mself\u001b[39;49m\u001b[38;5;241;43m.\u001b[39;49m\u001b[43mwidth\u001b[49m\u001b[43m,\u001b[49m\u001b[43m \u001b[49m\u001b[38;5;28;43mself\u001b[39;49m\u001b[38;5;241;43m.\u001b[39;49m\u001b[43mheight\u001b[49m\u001b[43m,\u001b[49m\u001b[43m \u001b[49m\u001b[43minternalformat\u001b[49m\u001b[43m,\u001b[49m\n\u001b[0;32m    821\u001b[0m \u001b[43m                     \u001b[49m\u001b[43mrectangle\u001b[49m\u001b[43m,\u001b[49m\u001b[43m \u001b[49m\u001b[43mforce_rectangle\u001b[49m\u001b[43m)\u001b[49m\n\u001b[0;32m    822\u001b[0m \u001b[38;5;28;01mif\u001b[39;00m \u001b[38;5;28mself\u001b[39m\u001b[38;5;241m.\u001b[39manchor_x \u001b[38;5;129;01mor\u001b[39;00m \u001b[38;5;28mself\u001b[39m\u001b[38;5;241m.\u001b[39manchor_y:\n\u001b[0;32m    823\u001b[0m     texture\u001b[38;5;241m.\u001b[39manchor_x \u001b[38;5;241m=\u001b[39m \u001b[38;5;28mself\u001b[39m\u001b[38;5;241m.\u001b[39manchor_x\n",
      "File \u001b[1;32mc:\\Users\\johnm\\AppData\\Local\\Programs\\Python\\Python38\\lib\\site-packages\\pyglet\\image\\__init__.py:1464\u001b[0m, in \u001b[0;36mTexture.create\u001b[1;34m(cls, width, height, internalformat, rectangle, force_rectangle, min_filter, mag_filter)\u001b[0m\n\u001b[0;32m   1461\u001b[0m     texture_height \u001b[38;5;241m=\u001b[39m _nearest_pow2(height)\n\u001b[0;32m   1463\u001b[0m \u001b[38;5;28mid\u001b[39m \u001b[38;5;241m=\u001b[39m GLuint()\n\u001b[1;32m-> 1464\u001b[0m \u001b[43mglGenTextures\u001b[49m\u001b[43m(\u001b[49m\u001b[38;5;241;43m1\u001b[39;49m\u001b[43m,\u001b[49m\u001b[43m \u001b[49m\u001b[43mbyref\u001b[49m\u001b[43m(\u001b[49m\u001b[38;5;28;43mid\u001b[39;49m\u001b[43m)\u001b[49m\u001b[43m)\u001b[49m\n\u001b[0;32m   1465\u001b[0m glBindTexture(target, \u001b[38;5;28mid\u001b[39m\u001b[38;5;241m.\u001b[39mvalue)\n\u001b[0;32m   1466\u001b[0m glTexParameteri(target, GL_TEXTURE_MIN_FILTER, min_filter)\n",
      "File \u001b[1;32mc:\\Users\\johnm\\AppData\\Local\\Programs\\Python\\Python38\\lib\\site-packages\\pyglet\\gl\\lib.py:87\u001b[0m, in \u001b[0;36merrcheck\u001b[1;34m(result, func, arguments)\u001b[0m\n\u001b[0;32m     83\u001b[0m \u001b[38;5;28;01mclass\u001b[39;00m \u001b[38;5;21;01mGLException\u001b[39;00m(\u001b[38;5;167;01mException\u001b[39;00m):\n\u001b[0;32m     84\u001b[0m     \u001b[38;5;28;01mpass\u001b[39;00m\n\u001b[1;32m---> 87\u001b[0m \u001b[38;5;28;01mdef\u001b[39;00m \u001b[38;5;21merrcheck\u001b[39m(result, func, arguments):\n\u001b[0;32m     88\u001b[0m     \u001b[38;5;28;01mif\u001b[39;00m _debug_gl_trace:\n\u001b[0;32m     89\u001b[0m         \u001b[38;5;28;01mtry\u001b[39;00m:\n",
      "\u001b[1;31mKeyboardInterrupt\u001b[0m: "
     ]
    }
   ],
   "source": [
    "\"\"\"\n",
    "Project: Playing Airstriker with Gym Retro and NEAT\n",
    "Purpose: Evolve a neural network to play Airstriker\n",
    "Notes:\n",
    "  Airstriker game is a non-commercial homebrew game that comes preinstalled with OpenAI Gym Retro\n",
    "\"\"\"\n",
    "\n",
    "import retro  # pip install gym-retro\n",
    "import numpy as np  # pip install numpy\n",
    "import cv2  # pip install opencv-python\n",
    "import neat  # pip install neat-python\n",
    "import pickle  # pip install cloudpickle\n",
    "\n",
    "# create retro environment: game, state, scenario (defines rewards)\n",
    "environment = retro.make('Airstriker-Genesis', 'Level1', scenario='scenario')\n",
    "\n",
    "\n",
    "# define an evaluation function for each game \"play through\" genome\n",
    "def eval_genomes(genomes, config):\n",
    "    # for each genome in the population\n",
    "    for genome_id, genome in genomes:\n",
    "        # reset environment to initial state\n",
    "        observation = environment.reset()\n",
    "\n",
    "        # shape/resolution of image created by emulator\n",
    "        inx, iny, inc = environment.observation_space.shape\n",
    "\n",
    "        # scale down observation\n",
    "        inx = int(inx / 8)\n",
    "        iny = int(iny / 8)\n",
    "\n",
    "        # create NEAT network\n",
    "        network = neat.nn.recurrent.RecurrentNetwork.create(genome, config)\n",
    "\n",
    "        # create an alternative type of neural network with NEAT\n",
    "        # network = neat.nn.FeedForwardNetwork.create(genome, config)\n",
    "\n",
    "        # set up some variables to track fitness\n",
    "        fitness = 0\n",
    "\n",
    "        # optionally create another window for the \"neural network's vision\"\n",
    "        # cv2.namedWindow(\"main\", cv2.WINDOW_NORMAL)\n",
    "\n",
    "        finished = False\n",
    "        while not finished:\n",
    "            # render the game\n",
    "            environment.render()\n",
    "\n",
    "            # resize and reshape the observation image\n",
    "            observation = cv2.resize(observation, (inx, iny))\n",
    "            # observation = cv2.cvtColor(observation, cv2.COLOR_BGR2RGB) #alt view\n",
    "            observation = cv2.cvtColor(observation, cv2.COLOR_BGR2GRAY)\n",
    "            observation = np.reshape(observation, (inx, iny))\n",
    "\n",
    "            # optional update \"neural network's vision\"\n",
    "            # cv2.imshow('main', observation)\n",
    "            # cv2.waitKey(1)\n",
    "\n",
    "            # create a single array from 2d pixel data\n",
    "            img_array = np.ndarray.flatten(observation)\n",
    "\n",
    "            # create controller actions from input\n",
    "            actions = network.activate(img_array)\n",
    "\n",
    "            # take a peek at controller actions before translation\n",
    "            # print(actions)\n",
    "\n",
    "            # map relu activation output to 0 or 1\n",
    "            actions = np.where(np.array(actions) <= 0.0, 0.0, 1.0).tolist()\n",
    "\n",
    "            # take a peek at controller actions before translation\n",
    "            # print(actions)\n",
    "\n",
    "            # increment the emulator state\n",
    "            observation, reward, done, info = environment.step(actions)\n",
    "\n",
    "            # update fitness with reward from environment\n",
    "            fitness += reward\n",
    "\n",
    "            if done:\n",
    "                finished = True\n",
    "                print(genome_id, fitness)\n",
    "\n",
    "        # set the fitness for this genome\n",
    "        genome.fitness = fitness\n",
    "\n",
    "\n",
    "# NEAT configuration, all defaults except a config file is provided\n",
    "config = neat.Config(neat.DefaultGenome, neat.DefaultReproduction,\n",
    "                     neat.DefaultSpeciesSet, neat.DefaultStagnation,\n",
    "                     'config-feedforward')\n",
    "\n",
    "# NEAT output\n",
    "population = neat.Population(config)\n",
    "# population = neat.Checkpointer.restore_checkpoint('neat-checkpoint-13') #code to reload from checkpoint\n",
    "population.add_reporter(neat.StdOutReporter(True))\n",
    "stats = neat.StatisticsReporter()\n",
    "population.add_reporter(stats)\n",
    "population.add_reporter(neat.Checkpointer(10))\n",
    "\n",
    "# the winning network, run for x generations\n",
    "winner = population.run(eval_genomes, 1)\n",
    "\n",
    "# save the winning network to a binary file to reload later\n",
    "with open('winner-act1.pkl', 'wb') as output:\n",
    "    pickle.dump(winner, output, 1)\n",
    "\n",
    "exit()\n"
   ]
  }
 ],
 "metadata": {
  "kernelspec": {
   "display_name": "Python 3",
   "language": "python",
   "name": "python3"
  },
  "language_info": {
   "codemirror_mode": {
    "name": "ipython",
    "version": 3
   },
   "file_extension": ".py",
   "mimetype": "text/x-python",
   "name": "python",
   "nbconvert_exporter": "python",
   "pygments_lexer": "ipython3",
   "version": "3.8.7"
  }
 },
 "nbformat": 4,
 "nbformat_minor": 2
}

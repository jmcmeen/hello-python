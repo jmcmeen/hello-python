{
 "cells": [
  {
   "cell_type": "markdown",
   "metadata": {},
   "source": [
    "**Random Numbers** https://docs.python.org/3/library/random.html\n",
    "\n",
    "The `random` library in Python is a built-in module that provides various functions for generating random numbers and performing random sampling. It is a powerful tool for generating randomness in Python programs.\n",
    "\n",
    "Here are some of the most commonly used functions in the `random` library:\n",
    "\n",
    "* `random()` - returns a random float number between 0.0 to 1.0.\n",
    "* `uniform(a, b)` - returns a random float number between `a` and `b`.\n",
    "* `randint(a, b)` - returns a random integer between `a` and `b` (inclusive).\n",
    "* `choice(seq)` - returns a random element from the non-empty sequence `seq`.\n",
    "* `shuffle(x)` - shuffles the sequence `x` in-place.\n",
    "* `sample(population, k)` - returns a list of `k` unique elements chosen from the population sequence.\n",
    "\n",
    "The `random` library is widely used in various applications, such as simulations, games, cryptography, and statistical analysis. It is an essential tool for generating randomness in Python programs."
   ]
  },
  {
   "cell_type": "code",
   "execution_count": null,
   "metadata": {},
   "outputs": [],
   "source": [
    "# Generate a random float between 0.0 (inclusive) and 1.0 (exclusive)\n",
    "import random\n",
    "\n",
    "random_float = random.random()\n",
    "print(f\"Random float: {random_float:.4f}\")"
   ]
  },
  {
   "cell_type": "code",
   "execution_count": null,
   "metadata": {},
   "outputs": [],
   "source": [
    "# Generate a random float within a specified range\n",
    "import random\n",
    "\n",
    "random_uniform = random.uniform(10, 20)\n",
    "print(f\"Random uniform float between 10 and 20: {random_uniform:.2f}\")"
   ]
  },
  {
   "cell_type": "code",
   "execution_count": null,
   "metadata": {},
   "outputs": [],
   "source": [
    "# Generate a random integer within a specified range\n",
    "import random\n",
    "\n",
    "random_int = random.randint(1, 100)\n",
    "print(f\"Random integer between 1 and 100: {random_int}\")"
   ]
  },
  {
   "cell_type": "code",
   "execution_count": null,
   "metadata": {},
   "outputs": [],
   "source": [
    "# Choose a random element from a sequence (e.g., list)\n",
    "import random\n",
    "\n",
    "my_list = [10, 20, 30, 40, 50]\n",
    "random_choice = random.choice(my_list)\n",
    "print(f\"Random choice from the list: {random_choice}\")"
   ]
  },
  {
   "cell_type": "code",
   "execution_count": null,
   "metadata": {},
   "outputs": [],
   "source": [
    "# Shuffle the elements of a list in-place\n",
    "import random\n",
    "\n",
    "my_list = [10, 20, 30, 40, 50]\n",
    "random.shuffle(my_list)\n",
    "print(f\"Shuffled list: {my_list}\")"
   ]
  },
  {
   "cell_type": "code",
   "execution_count": null,
   "metadata": {},
   "outputs": [],
   "source": [
    "# Sample random elements from a list without replacement\n",
    "import random\n",
    "\n",
    "my_list = [10, 20, 30, 40, 50]\n",
    "random_sample = random.sample(my_list, 3)\n",
    "print(f\"Random sample of 3 elements: {random_sample}\")"
   ]
  }
 ],
 "metadata": {
  "kernelspec": {
   "display_name": "Python 3",
   "language": "python",
   "name": "python3"
  },
  "language_info": {
   "codemirror_mode": {
    "name": "ipython",
    "version": 3
   },
   "file_extension": ".py",
   "mimetype": "text/x-python",
   "name": "python",
   "nbconvert_exporter": "python",
   "pygments_lexer": "ipython3",
   "version": "3.11.7"
  }
 },
 "nbformat": 4,
 "nbformat_minor": 2
}

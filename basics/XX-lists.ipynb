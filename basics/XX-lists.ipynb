{
 "cells": [
  {
   "cell_type": "markdown",
   "metadata": {},
   "source": [
    "# Lists #\n",
    "\n",
    "In Python, a list is a collection of items that can be of any data type, including strings, integers, floats, and other lists. Lists are denoted by square brackets [] and are used to store a sequence of values. Lists are mutable, meaning you can add, remove, or modify their elements after they're created.\n",
    "\n",
    "Lists are useful in many ways.\n",
    "\n",
    "* Storing a collection of data that needs to be processed or manipulated.\n",
    "* Creating a data structure that can be easily searched, sorted, and modified.\n",
    "* Using lists as a data structure for other data structures, such as dictionaries and sets.\n",
    "\n",
    "Here are some common list operations in Python:\n",
    "\n",
    "* Indexing: Accessing a value in a list using its index, eg. my_list[0].\n",
    "* Slicing: Extracting a subset of a list by specifying a range of indices, eg. my_list[1:3].\n",
    "* Append: Adding an element to the end of a list, eg. my_list.append(\"pear\").\n",
    "* Insert: Inserting an element at a specific position in the list, eg. my_list.insert(2, \"plum\").\n",
    "* Remove: Removing the first occurrence of an element in the list, eg. my_list.remove(\"banana\").\n",
    "* Sort: Sorting the elements of a list, eg. my_list.sort().\n",
    "* Reverse: Reversing the order of the elements in a list, eg. my_list.reverse().\n",
    "\n",
    "These are just a few examples of the many operations you can perform on lists in Python. For more information, see the [Python Documentation](https://docs.python.org/3/library/stdtypes.html#list)."
   ]
  },
  {
   "cell_type": "markdown",
   "metadata": {},
   "source": [
    "# Creating One-Dimensional Lists #\n",
    "\n",
    "There are several ways to create a list in Python."
   ]
  },
  {
   "cell_type": "code",
   "execution_count": null,
   "metadata": {},
   "outputs": [],
   "source": [
    "# create a one-dimensional list with literal values\n",
    "my_list = [0,1,9,5,4,3,2,6,7,8]\n",
    "\n",
    "print(my_list)"
   ]
  },
  {
   "cell_type": "code",
   "execution_count": null,
   "metadata": {},
   "outputs": [],
   "source": [
    "# create a one-dimensional list with default values\n",
    "num_elements = 5\n",
    "vector = [0]*num_elements\n",
    "print(vector)"
   ]
  },
  {
   "cell_type": "code",
   "execution_count": null,
   "metadata": {},
   "outputs": [],
   "source": [
    "# create a one-dimensional list using list comprehensions\n",
    "num_elements = 10\n",
    "my_list = [i for i in range(num_elements)]\n",
    "print(my_list)"
   ]
  },
  {
   "cell_type": "markdown",
   "metadata": {},
   "source": [
    "# Creating Two-Dimensional Lists #\n",
    "\n",
    "Here are some examples for creating two-dimensional lists."
   ]
  },
  {
   "cell_type": "code",
   "execution_count": null,
   "metadata": {},
   "outputs": [],
   "source": [
    "# create a two-dimensional list\n",
    "my_list = [[1 , 0, 1],[0, 1, 0]]\n",
    "\n",
    "print(my_list)"
   ]
  },
  {
   "cell_type": "code",
   "execution_count": null,
   "metadata": {},
   "outputs": [],
   "source": [
    "# create a 2-d list with default values\n",
    "rows, cols = (3, 4)\n",
    "matrix = [[1]*cols]*rows\n",
    "print(matrix)"
   ]
  },
  {
   "cell_type": "code",
   "execution_count": null,
   "metadata": {},
   "outputs": [],
   "source": [
    "# Nested list comprehension\n",
    "rows, cols = (3, 4)\n",
    "matrix = [[j for j in range(cols)] for i in range(rows)]\n",
    " \n",
    "print(matrix)"
   ]
  },
  {
   "cell_type": "markdown",
   "metadata": {},
   "source": [
    "# Indexing #\n",
    "\n",
    "In Python, indexing is the process of accessing a specific element or elements within a list. Lists are zero-indexed, meaning that the first element in the list has an index of 0, and each subsequent element has an index that is one greater than the previous element's index. Python also supports negative indexing to traverse the list backwards."
   ]
  },
  {
   "cell_type": "code",
   "execution_count": null,
   "metadata": {},
   "outputs": [],
   "source": [
    "my_list = [\"apple\", \"banana\", \"orange\", \"grape\", \"pear\", \"kiwi\"]\n",
    "\n",
    "# accessing elements using index\n",
    "print(\"First element:\", my_list[0])\n",
    "print(\"Second element:\", my_list[1])\n",
    "print(\"Last element:\", my_list[-1])"
   ]
  },
  {
   "cell_type": "code",
   "execution_count": null,
   "metadata": {},
   "outputs": [],
   "source": [
    "my_list = [\"apple\", \"banana\", \"orange\", \"grape\", \"pear\", \"kiwi\"]\n",
    "\n",
    "# modifying elements using index\n",
    "my_list[0] = \"not apple\"\n",
    "my_list[1] = \"not banana\"\n",
    "my_list[-1] = \"not kiwi\"\n",
    "\n",
    "\n",
    "print(\"Modified list:\", my_list)"
   ]
  },
  {
   "cell_type": "markdown",
   "metadata": {},
   "source": [
    "# Slicing #\n",
    "\n",
    "In Python, list slicing is a way to extract a subset of elements from a list by specifying a range of indices. It allows you to access a subset of elements in a list without having to iterate over the entire list. The end of the slice range in exclusive, meaning in my_list[1:3], index 3 would not be included, only 1 and 2.\n",
    "\n",
    "Here's a step-by-step breakdown of how list slicing works in Python:\n",
    "\n",
    "1. The slice notation starts with the square bracket [.\n",
    "2. The first number in the slice notation is the start index. In the example above, we've specified 1 as the start index, which means we're starting from the second element of the list.\n",
    "3. The colon (:) separates the start index from the stop index.\n",
    "4. The stop index is the index of the last element that we want to include in the slice. In the example above, we've specified 3 as the stop index, which means we're including the third element of the list (index 3) but not the fourth element (index 4).\n",
    "5. The step parameter is optional. If we don't specify a step, the slice will default to stepping by 1 (i.e., including every element). In the example above, we've specified a step of 1, which means we're including every other element starting from the second element.\n",
    "6. The slice notation ends with the square bracket ]."
   ]
  },
  {
   "cell_type": "code",
   "execution_count": null,
   "metadata": {},
   "outputs": [],
   "source": [
    "# slicing\n",
    "my_list = [0, 1, 9, 5, 4, 3, 2, 6, 7, 8, 9, 10, 11, 12]\n",
    "print(\"Slice from index 2 to 4:\", my_list[2:4])\n",
    "print(\"Slice from index 2 to end:\", my_list[2:])\n",
    "print(\"Slice from start to index 3:\", my_list[:3])\n",
    "print(\"Slice from start to end:\", my_list[:])\n",
    "print(\"Slice from index 2 to 4 with step 2:\", my_list[2:4:2])\n",
    "print(\"Slice from index 2 to end with step 2:\", my_list[2::2])\n",
    "print(\"Slice from start to index 3 with step 2:\", my_list[:3:2])\n",
    "print(\"Slice from start to end with step 2:\", my_list[::2])\n",
    "print(\"Slice from end to beginning with step 1:\", my_list[::-1])\n",
    "print(\"Slice from end to beginning with step 2:\", my_list[::-2])"
   ]
  },
  {
   "cell_type": "markdown",
   "metadata": {},
   "source": [
    "# Append #\n",
    "In Python, appending to a list means adding an element or a sequence of elements to the end of an existing list."
   ]
  },
  {
   "cell_type": "code",
   "execution_count": null,
   "metadata": {},
   "outputs": [],
   "source": [
    "#create an empty list\n",
    "my_list = []\n",
    "\n",
    "# append elements\n",
    "my_list.append(1)\n",
    "my_list.append(\"2\")\n",
    "my_list.append([8, 9, \"John\"])\n",
    "my_list.append({\"name\": \"John\"})\n",
    "my_list.append(3.14)\n",
    "my_list.append(True)\n",
    "my_list.append(None)\n",
    "\n",
    "print(my_list)"
   ]
  },
  {
   "cell_type": "code",
   "execution_count": null,
   "metadata": {},
   "outputs": [],
   "source": [
    "# appending using += operator\n",
    "my_list = [\"apple\", \"banana\", \"orange\"]\n",
    "my_list += [\"grape\"]\n",
    "print(my_list)  "
   ]
  },
  {
   "cell_type": "markdown",
   "metadata": {},
   "source": [
    "# Extend #\n",
    "Using the extend() method: The extend() method can be used to add a sequence of elements to a list. "
   ]
  },
  {
   "cell_type": "code",
   "execution_count": null,
   "metadata": {},
   "outputs": [],
   "source": [
    "my_list = [\"apple\", \"banana\", \"orange\"]\n",
    "my_list.extend([\"grape\", \"pear\"])\n",
    "print(my_list)  "
   ]
  },
  {
   "cell_type": "markdown",
   "metadata": {},
   "source": [
    "# Insert #\n",
    "\n",
    "Using the insert() method: The insert() method can be used to insert an element at a specific position in the list"
   ]
  },
  {
   "cell_type": "code",
   "execution_count": null,
   "metadata": {},
   "outputs": [],
   "source": [
    "my_list = [\"apple\", \"banana\", \"orange\"]\n",
    "my_list.insert(2, \"grape\")\n",
    "print(my_list)  "
   ]
  },
  {
   "cell_type": "code",
   "execution_count": null,
   "metadata": {},
   "outputs": [],
   "source": [
    "# update only one element\n",
    "matrix[0][0] = 1\n",
    "print(matrix, \"after\")"
   ]
  },
  {
   "cell_type": "markdown",
   "metadata": {},
   "source": [
    "# Remove #\n",
    "To remove an element from a Python list, you can use the remove() method. The remove() method takes an element as an argument, and it removes the first occurrence of that element from the list."
   ]
  },
  {
   "cell_type": "code",
   "execution_count": null,
   "metadata": {},
   "outputs": [],
   "source": [
    "my_list = [9, 1, 9, 5, 4, 3, 2, 6, 7, 8, 0]\n",
    "\n",
    "# remove first occurrence of 9\n",
    "my_list.remove(9)\n",
    "\n",
    "print(my_list)"
   ]
  },
  {
   "cell_type": "markdown",
   "metadata": {},
   "source": [
    "# Pop #\n",
    "\n",
    "You can also use the pop() method to remove an element from a list, but it's a little different from remove(). The pop() method removes and returns the element at the specified position in the list."
   ]
  },
  {
   "cell_type": "code",
   "execution_count": null,
   "metadata": {},
   "outputs": [],
   "source": [
    "my_list = [9, 1, 9, 5, 4, 3, 2, 6, 7, 8, 0]\n",
    "\n",
    "# remove and return first element\n",
    "print(\"Popping first element:\", my_list.pop(0))\n",
    "print(\"Popping last element:\", my_list.pop(-1))\n",
    "\n",
    "print(my_list)"
   ]
  },
  {
   "cell_type": "markdown",
   "metadata": {},
   "source": [
    "# Sorting #\n",
    "\n",
    "By default, sorted() sorts lists in ascending order. If you want to sort a list in descending order, you can pass the reverse argument with a value of True:"
   ]
  },
  {
   "cell_type": "code",
   "execution_count": null,
   "metadata": {},
   "outputs": [],
   "source": [
    "# the list's sort method will sort the list in place\n",
    "my_list = [3, 2, 6, 1, 4]\n",
    "my_list.sort()\n",
    "print(my_list)\n",
    "\n",
    "# the sorted method will return a new sorted list\n",
    "my_list = [3, 2, 6, 1, 4]\n",
    "sorted_list = sorted(my_list)\n",
    "print(sorted_list)\n",
    "\n",
    "# the list's sort method will sort the list in place\n",
    "my_list = [3, 2, 6, 1, 4]\n",
    "my_list.sort(reverse=True)\n",
    "print(my_list)\n",
    "\n",
    "# the sorted method will return a new sorted list\n",
    "my_list = [3, 2, 6, 1, 4]\n",
    "sorted_list = sorted(my_list, reverse=True)\n",
    "print(sorted_list)"
   ]
  },
  {
   "cell_type": "markdown",
   "metadata": {},
   "source": [
    "# Reversing #\n",
    "To reverse a list in Python, you can use reverse, reversed, or list slicing."
   ]
  },
  {
   "cell_type": "code",
   "execution_count": null,
   "metadata": {},
   "outputs": [],
   "source": [
    "# the list's reverse method will reverse the list in place\n",
    "my_list = [3, 2, 6, 1, 4]\n",
    "my_list.reverse()\n",
    "print(my_list)\n",
    "\n",
    "# the reversed method will return a new reversed list copy\n",
    "my_list = [3, 2, 6, 1, 4]\n",
    "reversed_list = list(reversed(my_list))\n",
    "print(reversed_list)\n",
    "\n",
    "# you can also use the slicing method we saw above which returns a reversed copy\n",
    "my_list = [3, 2, 6, 1, 4]\n",
    "reversed_list = my_list[::-1]\n",
    "print(reversed_list)"
   ]
  },
  {
   "cell_type": "markdown",
   "metadata": {},
   "source": [
    "# Searching #\n",
    "There are various ways to search lists in Python."
   ]
  },
  {
   "cell_type": "code",
   "execution_count": null,
   "metadata": {},
   "outputs": [],
   "source": [
    "my_list = [1, 2, 3, 4, 5, 3]\n",
    "target = 3\n",
    "\n",
    "# using in operator, index method prints index of first occureence\n",
    "if target in my_list:\n",
    "    print(f\"{target} found at index {my_list.index(target)}\")\n",
    "else:\n",
    "    print(f\"{target} not found in the list\")\n",
    "\n",
    "# using enumerate\n",
    "for i, value in enumerate(my_list):\n",
    "    if value == target:\n",
    "        print(f\"{target} found at index {i}\")\n",
    "        break #breaks at first occurence\n",
    "else:\n",
    "    print(f\"{target} not found in the list\")\n",
    "\n",
    "# using list comprehension to find all occurences\n",
    "indices = [i for i, value in enumerate(my_list) if value == target]\n",
    "print(indices)\n",
    "\n",
    "# using filter function to find all occurences\n",
    "indices = list(filter(lambda i: my_list[i] == target, range(len(my_list))))\n",
    "print(indices)\n",
    "\n",
    "# using for loop to find all occurences\n",
    "indices = []\n",
    "for i in range(len(my_list)):\n",
    "    if my_list[i] == target:\n",
    "        indices.append(i)\n",
    "\n",
    "print(indices)\n",
    "\n",
    "# search for a list in a list\n",
    "my_list = [[1, 2], [3, 4], [5, 6]]\n",
    "target = [3, 4]\n",
    "if target in my_list:\n",
    "    print(f\"{target} found at index {my_list.index(target)}\")\n",
    "else:\n",
    "    print(f\"{target} not found in the list\")\n",
    "\n",
    "# search 2d list for single value\n",
    "my_list = [[1, 2], [3, 4], [5, 6]]\n",
    "target = 3\n",
    "for row in my_list:\n",
    "    if target in row:\n",
    "        print(f\"{target} found at index {[my_list.index(row), row.index(target)]}\")\n",
    "        break\n",
    "else:\n",
    "    print(f\"{target} not found in the list\")"
   ]
  }
 ],
 "metadata": {
  "kernelspec": {
   "display_name": "Python 3",
   "language": "python",
   "name": "python3"
  },
  "language_info": {
   "codemirror_mode": {
    "name": "ipython",
    "version": 3
   },
   "file_extension": ".py",
   "mimetype": "text/x-python",
   "name": "python",
   "nbconvert_exporter": "python",
   "pygments_lexer": "ipython3",
   "version": "3.11.7"
  }
 },
 "nbformat": 4,
 "nbformat_minor": 2
}

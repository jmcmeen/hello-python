{
 "cells": [
  {
   "cell_type": "markdown",
   "metadata": {},
   "source": [
    "**Pygame:** This module demoonstrates PyGame https://www.pygame.org/docs/\n",
    "\n",
    "Pygame is a cross-platform set of Python modules specifically designed for creating video games. It provides computer graphics and sound libraries that can be seamlessly integrated with the Python programming language. \n",
    "\n",
    "Pygame was originally developed by Pete Shinners as a replacement for PySDL when its development stalled. Since 2000, it has been a community-driven project and is released under the GNU Lesser General Public License.\n",
    "\n",
    "Pygame utilizes the Simple DirectMedia Layer (SDL) library, allowing real-time game development without dealing with low-level C programming mechanics. This abstraction enables developers to structure games using a high-level language like Python. Other features include vector math, collision detection, 2D sprite scene graph management, MIDI support, camera control, pixel-array manipulation, font rendering, and more.\n",
    "Pygame applications can run on Android phones and tablets using Pygame Subset for Android (pgs4a), supporting sound, vibration, keyboard input, and accelerometer functionality.\n",
    "\n",
    "In summary, Pygame empowers developers to create engaging games and multimedia programs using Python, abstracting away low-level complexities and providing a rich set of tools for game development.\n",
    "\n",
    "Tested with Python 3.11.8 https://www.python.org/downloads/release/python-3117/"
   ]
  },
  {
   "cell_type": "code",
   "execution_count": 1,
   "metadata": {},
   "outputs": [],
   "source": [
    "%%capture\n",
    "%pip install --upgrade pygame\n",
    "%pip install --upgrade numpy\n",
    "%pip install --upgrade shapely"
   ]
  }
 ],
 "metadata": {
  "kernelspec": {
   "display_name": ".venv",
   "language": "python",
   "name": "python3"
  },
  "language_info": {
   "codemirror_mode": {
    "name": "ipython",
    "version": 3
   },
   "file_extension": ".py",
   "mimetype": "text/x-python",
   "name": "python",
   "nbconvert_exporter": "python",
   "pygments_lexer": "ipython3",
   "version": "3.11.8"
  }
 },
 "nbformat": 4,
 "nbformat_minor": 2
}

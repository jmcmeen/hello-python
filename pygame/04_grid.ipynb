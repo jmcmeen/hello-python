{
 "cells": [
  {
   "cell_type": "code",
   "execution_count": 2,
   "metadata": {},
   "outputs": [],
   "source": [
    "import pygame\n",
    "\n",
    "# pygame setup\n",
    "pygame.init()\n",
    "\n",
    "#cell size\n",
    "cell_size =  20\n",
    "\n",
    "# set number of rows  and colummns\n",
    "rows, cols = (10, 15)\n",
    "\n",
    "# Colors\n",
    "green = (0, 255, 0)\n",
    "\n",
    "#calculate grid size\n",
    "grid_height = rows * cell_size\n",
    "grid_width = cols * cell_size\n",
    "\n",
    "# create the screen\n",
    "screen = pygame.display.set_mode((grid_width, grid_height))\n",
    "\n",
    "# clock to keep track of FPS\n",
    "clock = pygame.time.Clock()\n",
    "\n",
    "# game loop variable\n",
    "running = True\n",
    "\n",
    "# frame rate\n",
    "dt = 0 # delta time\n",
    "FPS = 60 # FPS\n",
    "\n",
    "# game loop\n",
    "while running:\n",
    "    # poll for events\n",
    "    # pygame.QUIT event means the user clicked X to close your window\n",
    "    for event in pygame.event.get():\n",
    "        if event.type == pygame.QUIT:\n",
    "            running = False\n",
    "            \n",
    "    for x in range(0, grid_width, cell_size):\n",
    "        pygame.draw.line(screen, green, (x, 0), (x, grid_height))\n",
    "    for y in range(0, grid_height, cell_size):\n",
    "        pygame.draw.line(screen, green, (0, y), (grid_width, y))\n",
    "\n",
    "    # flip() the display to put your work on screen\n",
    "    pygame.display.flip()\n",
    "\n",
    "    # limits FPS\n",
    "    # dt is delta time in seconds since last frame, used for framerate-independent physics.\n",
    "    dt = clock.tick(FPS) / 1000\n",
    "\n",
    "# quit the game\n",
    "pygame.quit()"
   ]
  }
 ],
 "metadata": {
  "kernelspec": {
   "display_name": "Python 3",
   "language": "python",
   "name": "python3"
  },
  "language_info": {
   "codemirror_mode": {
    "name": "ipython",
    "version": 3
   },
   "file_extension": ".py",
   "mimetype": "text/x-python",
   "name": "python",
   "nbconvert_exporter": "python",
   "pygments_lexer": "ipython3",
   "version": "3.11.7"
  }
 },
 "nbformat": 4,
 "nbformat_minor": 2
}

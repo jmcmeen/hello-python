{
 "cells": [
  {
   "cell_type": "markdown",
   "metadata": {},
   "source": [
    "**Implementing physics in Pygame:** Bouncing Ball.\n",
    "\n",
    "Modified example from: https://github.com/idgmatrix/pygame-physics\n",
    "*  Added framerate independence"
   ]
  },
  {
   "cell_type": "code",
   "execution_count": 1,
   "metadata": {},
   "outputs": [
    {
     "name": "stdout",
     "output_type": "stream",
     "text": [
      "pygame 2.5.2 (SDL 2.28.3, Python 3.11.7)\n",
      "Hello from the pygame community. https://www.pygame.org/contribute.html\n"
     ]
    },
    {
     "ename": "SystemExit",
     "evalue": "",
     "output_type": "error",
     "traceback": [
      "An exception has occurred, use %tb to see the full traceback.\n",
      "\u001b[1;31mSystemExit\u001b[0m\n"
     ]
    },
    {
     "name": "stderr",
     "output_type": "stream",
     "text": [
      "C:\\Users\\johnm\\AppData\\Roaming\\Python\\Python311\\site-packages\\IPython\\core\\interactiveshell.py:3585: UserWarning: To exit: use 'exit', 'quit', or Ctrl-D.\n",
      "  warn(\"To exit: use 'exit', 'quit', or Ctrl-D.\", stacklevel=1)\n"
     ]
    }
   ],
   "source": [
    "import pygame, sys\n",
    "\n",
    "pygame.init()\n",
    "# clock to keep track of FPS\n",
    "clock = pygame.time.Clock()\n",
    "\n",
    "# game loop variable\n",
    "running = True\n",
    "\n",
    "# frame rate\n",
    "dt = 0 # delta time\n",
    "FPS = 60 # FPS\n",
    "\n",
    "BLACK = (0, 0, 0)\n",
    "WHITE = (255, 255, 255)\n",
    "WIDTH, HEIGHT = 640, 480\n",
    "\n",
    "screen = pygame.display.set_mode((WIDTH, HEIGHT))\n",
    "\n",
    "ballx, bally = 0, 0\n",
    "vx, vy = 300, 300\n",
    "\n",
    "while True:\n",
    "    screen.fill(BLACK)\n",
    "    for event in pygame.event.get():\n",
    "        if event.type == pygame.QUIT:\n",
    "            pygame.quit()\n",
    "            sys.exit()\n",
    "\n",
    "    ballx += vx * dt\n",
    "    bally += vy * dt\n",
    "    if ballx < 0 or ballx > WIDTH:\n",
    "        vx = -vx\n",
    "    if bally < 0 or bally > HEIGHT:\n",
    "        vy = -vy\n",
    "    #pygame.time.wait(10)\n",
    "    pygame.draw.circle(screen, WHITE, (ballx, bally), 10)\n",
    "\n",
    "        # limits FPS\n",
    "    # dt is delta time in seconds since last frame, used for framerate-independent physics.\n",
    "    dt = clock.tick(FPS) / 1000\n",
    "\n",
    "    pygame.display.update()"
   ]
  }
 ],
 "metadata": {
  "kernelspec": {
   "display_name": "Python 3",
   "language": "python",
   "name": "python3"
  },
  "language_info": {
   "codemirror_mode": {
    "name": "ipython",
    "version": 3
   },
   "file_extension": ".py",
   "mimetype": "text/x-python",
   "name": "python",
   "nbconvert_exporter": "python",
   "pygments_lexer": "ipython3",
   "version": "3.11.7"
  }
 },
 "nbformat": 4,
 "nbformat_minor": 2
}

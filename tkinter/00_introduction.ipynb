{
 "cells": [
  {
   "cell_type": "markdown",
   "metadata": {},
   "source": [
    "# tkinter\n",
    "Tkinter is a standard, open-source, and cross-platform GUI (Graphical User Interface) toolkit for Python programming language. It provides a powerful object-oriented interface to the Tk GUI toolkit. With Tkinter, you can create applications that run on Windows, Mac, and Linux systems.\n",
    "\n",
    "Tkinter provides a wide range of widgets, such as buttons, labels, text boxes, menus, canvases, and more, that you can use to create a user-friendly interface for your application. It also supports various features, such as geometry management, event handling, and theming.\n",
    "\n",
    "Tkinter is easy to learn and use, making it an ideal choice for beginners who want to create simple GUI applications. However, it is also powerful enough to create complex applications used by professionals."
   ]
  },
  {
   "cell_type": "code",
   "execution_count": null,
   "metadata": {},
   "outputs": [],
   "source": [
    "%pip install tkinter"
   ]
  }
 ],
 "metadata": {
  "kernelspec": {
   "display_name": "Python 3",
   "language": "python",
   "name": "python3"
  },
  "language_info": {
   "codemirror_mode": {
    "name": "ipython",
    "version": 3
   },
   "file_extension": ".py",
   "mimetype": "text/x-python",
   "name": "python",
   "nbconvert_exporter": "python",
   "pygments_lexer": "ipython3",
   "version": "3.11.7"
  }
 },
 "nbformat": 4,
 "nbformat_minor": 2
}

{
 "cells": [
  {
   "cell_type": "code",
   "execution_count": 3,
   "metadata": {},
   "outputs": [],
   "source": [
    "import tkinter as tk\n",
    "import hashlib\n",
    "\n",
    "def generate_hashes():\n",
    "    input_text = entry.get()\n",
    "    \n",
    "    md5_hash = hashlib.md5(input_text.encode()).hexdigest()\n",
    "    sha1_hash = hashlib.sha1(input_text.encode()).hexdigest()\n",
    "    sha256_hash = hashlib.sha256(input_text.encode()).hexdigest()\n",
    "    \n",
    "    md5_label.config(text=f\"MD5: {md5_hash}\")\n",
    "    sha1_label.config(text=f\"SHA-1: {sha1_hash}\")\n",
    "    sha256_label.config(text=f\"SHA-256: {sha256_hash}\")\n",
    "\n",
    "# Create the main window\n",
    "app = tk.Tk()\n",
    "app.title(\"Hash Generator\")\n",
    "\n",
    "# Create and place widgets\n",
    "label = tk.Label(app, text=\"Enter a string:\")\n",
    "label.pack(pady=5)\n",
    "\n",
    "entry = tk.Entry(app, width=30)\n",
    "entry.pack(pady=10)\n",
    "\n",
    "generate_button = tk.Button(app, text=\"Generate Hashes\", command=generate_hashes)\n",
    "generate_button.pack(pady=10)\n",
    "\n",
    "md5_label = tk.Label(app, text=\"MD5:\")\n",
    "md5_label.pack()\n",
    "\n",
    "sha1_label = tk.Label(app, text=\"SHA-1:\")\n",
    "sha1_label.pack()\n",
    "\n",
    "sha256_label = tk.Label(app, text=\"SHA-256:\")\n",
    "sha256_label.pack()\n",
    "\n",
    "# Start the Tkinter event loop\n",
    "app.mainloop()\n"
   ]
  }
 ],
 "metadata": {
  "kernelspec": {
   "display_name": "Python 3",
   "language": "python",
   "name": "python3"
  },
  "language_info": {
   "codemirror_mode": {
    "name": "ipython",
    "version": 3
   },
   "file_extension": ".py",
   "mimetype": "text/x-python",
   "name": "python",
   "nbconvert_exporter": "python",
   "pygments_lexer": "ipython3",
   "version": "3.11.7"
  }
 },
 "nbformat": 4,
 "nbformat_minor": 2
}

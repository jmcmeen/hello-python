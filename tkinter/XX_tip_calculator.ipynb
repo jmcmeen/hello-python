{
 "cells": [
  {
   "cell_type": "code",
   "execution_count": 3,
   "metadata": {},
   "outputs": [
    {
     "name": "stderr",
     "output_type": "stream",
     "text": [
      "Exception in Tkinter callback\n",
      "Traceback (most recent call last):\n",
      "  File \"c:\\Users\\johnm\\AppData\\Local\\Programs\\Python\\Python311\\Lib\\tkinter\\__init__.py\", line 1948, in __call__\n",
      "    return self.func(*args)\n",
      "           ^^^^^^^^^^^^^^^^\n",
      "  File \"C:\\Users\\johnm\\AppData\\Local\\Temp\\ipykernel_19348\\1792127624.py\", line 30, in calculate_tip\n",
      "    amount_input = float(self.amount_entry.get())\n",
      "                   ^^^^^^^^^^^^^^^^^^^^^^^^^^^^^^\n",
      "ValueError: could not convert string to float: ''\n"
     ]
    }
   ],
   "source": [
    "import tkinter as tk\n",
    "\n",
    "class MainWindow(tk.Tk):\n",
    "    def __init__(self):\n",
    "        super().__init__()\n",
    "\n",
    "        self.title(\"Tip Calculator\")\n",
    "\n",
    "        self.amount_label = tk.Label(self, text=\"Amount:\")\n",
    "        self.amount_label.grid(row=0, column=0, padx=10, pady=5)\n",
    "        self.amount_entry = tk.Entry(self)\n",
    "        self.amount_entry.grid(row=0, column=1, padx=10, pady=5)\n",
    "\n",
    "        self.tip_percent_label = tk.Label(self, text=\"Tip Percent:\")\n",
    "        self.tip_percent_label.grid(row=1, column=0, padx=10, pady=5)\n",
    "        self.tip_percent_entry = tk.Entry(self)\n",
    "        self.tip_percent_entry.grid(row=1, column=1, padx=10, pady=5)\n",
    "        self.tip_percent_default = 15\n",
    "\n",
    "        self.tip_amount_label = tk.Label(self, text=\"Tip Amount:\")\n",
    "        self.tip_amount_label.grid(row=2, column=0, padx=10, pady=5)\n",
    "        self.tip_amount_entry = tk.Entry(self)\n",
    "\n",
    "        self.tip_amount_entry.grid(row=2, column=1, padx=10, pady=5)\n",
    "\n",
    "        self.calculate_button = tk.Button(self, text=\"Calculate Tip\", command=self.calculate_tip)\n",
    "        self.calculate_button.grid(row=3, column=0, columnspan=2, pady=10)\n",
    "\n",
    "    def calculate_tip(self):\n",
    "        amount_input = float(self.amount_entry.get())\n",
    "        tip_percent_input = float(self.tip_percent_entry.get())\n",
    "\n",
    "        if amount_input and tip_percent_input:\n",
    "            tip_amount = amount_input * (tip_percent_input / 100)\n",
    "            self.tip_amount_entry.delete(0, tk.END)\n",
    "            self.tip_amount_entry.insert(0, round(tip_amount, 2))\n",
    "        elif amount_input:\n",
    "            tip_amount = amount_input * (self.tip_percent_default / 100)\n",
    "            self.tip_amount_entry.delete(0, tk.END)\n",
    "            self.tip_amount_entry.insert(0, round(tip_amount, 2))\n",
    "\n",
    "if __name__ == \"__main__\":\n",
    "    window = MainWindow()\n",
    "    window.mainloop()\n"
   ]
  }
 ],
 "metadata": {
  "kernelspec": {
   "display_name": "Python 3",
   "language": "python",
   "name": "python3"
  },
  "language_info": {
   "codemirror_mode": {
    "name": "ipython",
    "version": 3
   },
   "file_extension": ".py",
   "mimetype": "text/x-python",
   "name": "python",
   "nbconvert_exporter": "python",
   "pygments_lexer": "ipython3",
   "version": "3.11.7"
  }
 },
 "nbformat": 4,
 "nbformat_minor": 2
}

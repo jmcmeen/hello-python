{
 "cells": [
  {
   "cell_type": "code",
   "execution_count": null,
   "metadata": {},
   "outputs": [],
   "source": [
    "import tkinter as tk\n",
    "\n",
    "def calculate_tip():\n",
    "    amount_input = float(amount_entry.get())\n",
    "    tip_percent_input = float(tip_percent_entry.get())\n",
    "\n",
    "    if amount_input and tip_percent_input:\n",
    "        tip_amount = amount_input * (tip_percent_input / 100)\n",
    "        tip_amount_entry.delete(0, tk.END)\n",
    "        tip_amount_entry.insert(0, round(tip_amount, 2))\n",
    "    elif amount_input:\n",
    "        tip_amount = amount_input * (tip_percent_default / 100)\n",
    "        tip_amount_entry.delete(0, tk.END)\n",
    "        tip_amount_entry.insert(0, round(tip_amount, 2))\n",
    "\n",
    "root = tk.Tk()\n",
    "root.title(\"Tip Calculator\")\n",
    "\n",
    "amount_label = tk.Label(root, text=\"Amount:\")\n",
    "amount_label.grid(row=0, column=0, padx=10, pady=5)\n",
    "amount_entry = tk.Entry(root)\n",
    "amount_entry.grid(row=0, column=1, padx=10, pady=5)\n",
    "\n",
    "tip_percent_label = tk.Label(root, text=\"Tip Percent:\")\n",
    "tip_percent_label.grid(row=1, column=0, padx=10, pady=5)\n",
    "tip_percent_entry = tk.Entry(root)\n",
    "tip_percent_entry.grid(row=1, column=1, padx=10, pady=5)\n",
    "tip_percent_default = 15\n",
    "\n",
    "tip_amount_label = tk.Label(root, text=\"Tip Amount:\")\n",
    "tip_amount_label.grid(row=2, column=0, padx=10, pady=5)\n",
    "tip_amount_entry = tk.Entry(root)\n",
    "\n",
    "tip_amount_entry.grid(row=2, column=1, padx=10, pady=5)\n",
    "\n",
    "calculate_button = tk.Button(root, text=\"Calculate Tip\", command=calculate_tip)\n",
    "calculate_button.grid(row=3, column=0, columnspan=2, pady=10)\n",
    "\n",
    "root.mainloop()"
   ]
  }
 ],
 "metadata": {
  "kernelspec": {
   "display_name": "Python 3",
   "language": "python",
   "name": "python3"
  },
  "language_info": {
   "codemirror_mode": {
    "name": "ipython",
    "version": 3
   },
   "file_extension": ".py",
   "mimetype": "text/x-python",
   "name": "python",
   "nbconvert_exporter": "python",
   "pygments_lexer": "ipython3",
   "version": "3.11.7"
  }
 },
 "nbformat": 4,
 "nbformat_minor": 2
}

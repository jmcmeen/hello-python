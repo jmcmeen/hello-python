{
 "cells": [
  {
   "cell_type": "markdown",
   "metadata": {},
   "source": [
    "# FastAPI\n",
    "\n",
    "FastAPI is a modern, fast (high-performance), web framework for building APIs with Python 3.7+ based on standard Python type hints. It is designed to be fast, scalable, and easy to use. FastAPI is built on top of standard Python type hints and uses the OpenAPI specification to automatically generate documentation and client code for your API. It supports asynchronous programming, allowing for efficient and concurrent handling of requests. FastAPI also supports JSON Schema validation, which ensures that incoming requests conform to a specific schema, and provides built-in support for common data formats such as JSON, XML, and CSV. Additionally, FastAPI integrates seamlessly with popular Python frameworks and libraries, making it an excellent choice for building robust and scalable APIs.\n",
    "\n",
    "# Uvicorn\n",
    "\n",
    "Uvicorn is a Python web server that is designed to be fast, lightweight, and easy to use. It is built on top of the ASGI (Asynchronous Server Gateway Interface) specification, which allows it to run asynchronous Python web applications. Uvicorn is particularly well-suited for running FastAPI applications, as it provides a high-performance and scalable way to serve FastAPI applications. Uvicorn is also highly configurable, allowing developers to customize settings such as the number of workers, the maximum requests per worker, and the timeout for idle connections. Additionally, Uvicorn provides built-in support for SSL/TLS encryption, making it easy to secure your web application. Overall, Uvicorn is a powerful and flexible tool for serving Python web applications, and is a popular choice among developers building high-performance web applications.\n",
    "\n",
    "Code in this section will need to be executed using the uvicorn web server. After installing the dependencies below, open a terminal and change to an example directory, such as dice_roller. Each example will have a main.py file which will contain the FastAPI routes which define your Web API. To run your app, run the following command from inside each example directory.\n",
    "\n",
    "`uvicorn main:app --reload`\n",
    "\n",
    "![run uvicorn](run_uvi.png)\n",
    "\n",
    "Then follow the link in the Uvicorn output to test the FastAPI routes."
   ]
  },
  {
   "cell_type": "code",
   "execution_count": null,
   "metadata": {},
   "outputs": [],
   "source": [
    "%pip install fastapi\n",
    "%pip install uvicorn[standard]"
   ]
  }
 ],
 "metadata": {
  "kernelspec": {
   "display_name": "Python 3",
   "language": "python",
   "name": "python3"
  },
  "language_info": {
   "codemirror_mode": {
    "name": "ipython",
    "version": 3
   },
   "file_extension": ".py",
   "mimetype": "text/x-python",
   "name": "python",
   "nbconvert_exporter": "python",
   "pygments_lexer": "ipython3",
   "version": "3.11.7"
  }
 },
 "nbformat": 4,
 "nbformat_minor": 2
}

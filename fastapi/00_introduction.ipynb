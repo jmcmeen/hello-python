{
 "cells": [
  {
   "cell_type": "code",
   "execution_count": 1,
   "metadata": {},
   "outputs": [
    {
     "name": "stdout",
     "output_type": "stream",
     "text": [
      "Requirement already satisfied: fastapi in c:\\users\\johnm\\appdata\\local\\programs\\python\\python311\\lib\\site-packages (0.110.1)\n",
      "Requirement already satisfied: pydantic!=1.8,!=1.8.1,!=2.0.0,!=2.0.1,!=2.1.0,<3.0.0,>=1.7.4 in c:\\users\\johnm\\appdata\\local\\programs\\python\\python311\\lib\\site-packages (from fastapi) (2.6.4)\n",
      "Requirement already satisfied: starlette<0.38.0,>=0.37.2 in c:\\users\\johnm\\appdata\\local\\programs\\python\\python311\\lib\\site-packages (from fastapi) (0.37.2)\n",
      "Requirement already satisfied: typing-extensions>=4.8.0 in c:\\users\\johnm\\appdata\\local\\programs\\python\\python311\\lib\\site-packages (from fastapi) (4.10.0)\n",
      "Requirement already satisfied: annotated-types>=0.4.0 in c:\\users\\johnm\\appdata\\local\\programs\\python\\python311\\lib\\site-packages (from pydantic!=1.8,!=1.8.1,!=2.0.0,!=2.0.1,!=2.1.0,<3.0.0,>=1.7.4->fastapi) (0.6.0)\n",
      "Requirement already satisfied: pydantic-core==2.16.3 in c:\\users\\johnm\\appdata\\local\\programs\\python\\python311\\lib\\site-packages (from pydantic!=1.8,!=1.8.1,!=2.0.0,!=2.0.1,!=2.1.0,<3.0.0,>=1.7.4->fastapi) (2.16.3)\n",
      "Requirement already satisfied: anyio<5,>=3.4.0 in c:\\users\\johnm\\appdata\\local\\programs\\python\\python311\\lib\\site-packages (from starlette<0.38.0,>=0.37.2->fastapi) (4.3.0)\n",
      "Requirement already satisfied: idna>=2.8 in c:\\users\\johnm\\appdata\\local\\programs\\python\\python311\\lib\\site-packages (from anyio<5,>=3.4.0->starlette<0.38.0,>=0.37.2->fastapi) (3.6)\n",
      "Requirement already satisfied: sniffio>=1.1 in c:\\users\\johnm\\appdata\\local\\programs\\python\\python311\\lib\\site-packages (from anyio<5,>=3.4.0->starlette<0.38.0,>=0.37.2->fastapi) (1.3.1)\n",
      "Note: you may need to restart the kernel to use updated packages.\n",
      "Requirement already satisfied: uvicorn[standard] in c:\\users\\johnm\\appdata\\local\\programs\\python\\python311\\lib\\site-packages (0.29.0)\n",
      "Requirement already satisfied: click>=7.0 in c:\\users\\johnm\\appdata\\local\\programs\\python\\python311\\lib\\site-packages (from uvicorn[standard]) (8.1.7)\n",
      "Requirement already satisfied: h11>=0.8 in c:\\users\\johnm\\appdata\\local\\programs\\python\\python311\\lib\\site-packages (from uvicorn[standard]) (0.14.0)\n",
      "Requirement already satisfied: colorama>=0.4 in c:\\users\\johnm\\appdata\\roaming\\python\\python311\\site-packages (from uvicorn[standard]) (0.4.6)\n",
      "Requirement already satisfied: httptools>=0.5.0 in c:\\users\\johnm\\appdata\\local\\programs\\python\\python311\\lib\\site-packages (from uvicorn[standard]) (0.6.1)\n",
      "Requirement already satisfied: python-dotenv>=0.13 in c:\\users\\johnm\\appdata\\local\\programs\\python\\python311\\lib\\site-packages (from uvicorn[standard]) (1.0.1)\n",
      "Requirement already satisfied: pyyaml>=5.1 in c:\\users\\johnm\\appdata\\local\\programs\\python\\python311\\lib\\site-packages (from uvicorn[standard]) (6.0.1)\n",
      "Requirement already satisfied: watchfiles>=0.13 in c:\\users\\johnm\\appdata\\local\\programs\\python\\python311\\lib\\site-packages (from uvicorn[standard]) (0.21.0)\n",
      "Requirement already satisfied: websockets>=10.4 in c:\\users\\johnm\\appdata\\local\\programs\\python\\python311\\lib\\site-packages (from uvicorn[standard]) (12.0)\n",
      "Requirement already satisfied: anyio>=3.0.0 in c:\\users\\johnm\\appdata\\local\\programs\\python\\python311\\lib\\site-packages (from watchfiles>=0.13->uvicorn[standard]) (4.3.0)\n",
      "Requirement already satisfied: idna>=2.8 in c:\\users\\johnm\\appdata\\local\\programs\\python\\python311\\lib\\site-packages (from anyio>=3.0.0->watchfiles>=0.13->uvicorn[standard]) (3.6)\n",
      "Requirement already satisfied: sniffio>=1.1 in c:\\users\\johnm\\appdata\\local\\programs\\python\\python311\\lib\\site-packages (from anyio>=3.0.0->watchfiles>=0.13->uvicorn[standard]) (1.3.1)\n",
      "Note: you may need to restart the kernel to use updated packages.\n"
     ]
    }
   ],
   "source": [
    "%pip install fastapi\n",
    "%pip install uvicorn[standard]"
   ]
  }
 ],
 "metadata": {
  "kernelspec": {
   "display_name": "Python 3",
   "language": "python",
   "name": "python3"
  },
  "language_info": {
   "codemirror_mode": {
    "name": "ipython",
    "version": 3
   },
   "file_extension": ".py",
   "mimetype": "text/x-python",
   "name": "python",
   "nbconvert_exporter": "python",
   "pygments_lexer": "ipython3",
   "version": "3.11.7"
  }
 },
 "nbformat": 4,
 "nbformat_minor": 2
}

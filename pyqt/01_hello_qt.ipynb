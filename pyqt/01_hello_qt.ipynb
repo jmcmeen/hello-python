{
 "cells": [
  {
   "cell_type": "markdown",
   "metadata": {},
   "source": [
    "**Basic Hello World**"
   ]
  },
  {
   "cell_type": "code",
   "execution_count": 1,
   "metadata": {},
   "outputs": [],
   "source": [
    "import sys\n",
    "from PyQt5.QtWidgets import QApplication, QWidget\n",
    "if __name__ == \"__main__\":\n",
    "     # Check if there's a pre-existing QApplication instance \n",
    "    # If there is, use it. If there isn't, create a new one.\n",
    "    app = QApplication.instance()\n",
    "    if not app:\n",
    "        app = QApplication(sys.argv)\n",
    "\n",
    "    widget = QWidget()\n",
    "    widget.resize(300,300)\n",
    "    widget.setWindowTitle(\"Hello Qt\")\n",
    "    widget.show()\n",
    "    app.exec_()\n",
    "    "
   ]
  }
 ],
 "metadata": {
  "kernelspec": {
   "display_name": "Python 3",
   "language": "python",
   "name": "python3"
  },
  "language_info": {
   "codemirror_mode": {
    "name": "ipython",
    "version": 3
   },
   "file_extension": ".py",
   "mimetype": "text/x-python",
   "name": "python",
   "nbconvert_exporter": "python",
   "pygments_lexer": "ipython3",
   "version": "3.11.7"
  }
 },
 "nbformat": 4,
 "nbformat_minor": 2
}
